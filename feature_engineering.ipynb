{
 "cells": [
  {
   "cell_type": "code",
   "execution_count": 49,
   "metadata": {},
   "outputs": [],
   "source": [
    "import numpy as np\n",
    "import pandas as pd\n",
    "import sklearn as sk\n",
    "import matplotlib.pyplot as plt\n",
    "import seaborn as sns\n",
    "from sklearn.preprocessing import StandardScaler\n",
    "from sklearn.decomposition import PCA\n",
    "from sklearn.model_selection import cross_val_score\n"
   ]
  },
  {
   "cell_type": "markdown",
   "metadata": {},
   "source": [
    "## Loading the data"
   ]
  },
  {
   "cell_type": "code",
   "execution_count": 50,
   "metadata": {},
   "outputs": [],
   "source": [
    "train_data = pd.read_csv(\"forest-3-a-2024/train.csv\")\n"
   ]
  },
  {
   "cell_type": "code",
   "execution_count": 51,
   "metadata": {},
   "outputs": [
    {
     "data": {
      "text/plain": [
       "(15120, 56)"
      ]
     },
     "execution_count": 51,
     "metadata": {},
     "output_type": "execute_result"
    }
   ],
   "source": [
    "train_data.shape"
   ]
  },
  {
   "cell_type": "code",
   "execution_count": 52,
   "metadata": {},
   "outputs": [],
   "source": [
    "# train_data.head()"
   ]
  },
  {
   "cell_type": "code",
   "execution_count": 53,
   "metadata": {},
   "outputs": [],
   "source": [
    "# train_data.iloc[:,40:50].describe()"
   ]
  },
  {
   "cell_type": "code",
   "execution_count": 54,
   "metadata": {},
   "outputs": [],
   "source": [
    "#train_data.isnull().sum()"
   ]
  },
  {
   "cell_type": "code",
   "execution_count": 55,
   "metadata": {},
   "outputs": [
    {
     "name": "stdout",
     "output_type": "stream",
     "text": [
      "Columns with string values: Index([], dtype='object')\n"
     ]
    }
   ],
   "source": [
    "#check for string type columns\n",
    "string_columns = train_data.select_dtypes(include=['object']).columns\n",
    "print(\"Columns with string values:\", string_columns)\n"
   ]
  },
  {
   "cell_type": "code",
   "execution_count": 56,
   "metadata": {},
   "outputs": [],
   "source": [
    "data = train_data.drop('Id', axis=1)"
   ]
  },
  {
   "cell_type": "code",
   "execution_count": 57,
   "metadata": {},
   "outputs": [],
   "source": [
    "# fine the coorilation between the features\n",
    "# corelation_matrix = train_data.corr()\n",
    "# # draw the heatmap\n",
    "# heatmap = sns.heatmap(corelation_matrix, annot=True)\n",
    "# plt.show()\n",
    "# print(corelation_matrix)"
   ]
  },
  {
   "cell_type": "markdown",
   "metadata": {},
   "source": [
    "## Feature Engineering And Selection"
   ]
  },
  {
   "cell_type": "code",
   "execution_count": 58,
   "metadata": {},
   "outputs": [],
   "source": [
    "import featuretools as ft"
   ]
  },
  {
   "cell_type": "markdown",
   "metadata": {},
   "source": [
    "### 1. Grouping feature"
   ]
  },
  {
   "cell_type": "code",
   "execution_count": 59,
   "metadata": {},
   "outputs": [],
   "source": [
    "# Group of Wilderness_Area\n",
    "wilderness_area = train_data.loc[:,'Wilderness_Area1':'Wilderness_Area4']\n",
    "#print(wilderness_area)\n",
    "\n",
    "# Group of Soil_Type\n",
    "soil_type = train_data.loc[:,'Soil_Type1':'Soil_Type40']\n",
    "#print(soil_type)\n",
    "\n",
    "# Group of Continuous Features\n",
    "continuous_features = train_data.loc[:,'Elevation':'Horizontal_Distance_To_Fire_Points']"
   ]
  },
  {
   "cell_type": "markdown",
   "metadata": {},
   "source": [
    "#### 1.1 Analysis the corelation between wilderness Area and covertype"
   ]
  },
  {
   "cell_type": "code",
   "execution_count": 60,
   "metadata": {},
   "outputs": [],
   "source": [
    "# corr_matrix = wilderness_area.corr()\n",
    "# print(corr_matrix)\n",
    "# heatmap = sns.heatmap(corr_matrix, annot=True)\n",
    "# plt.show()"
   ]
  },
  {
   "cell_type": "markdown",
   "metadata": {},
   "source": [
    "### 2. Continue variable feature engineering"
   ]
  },
  {
   "cell_type": "markdown",
   "metadata": {},
   "source": [
    "Now, we extract the feature from the continue variable by adding the new feature such summation between two feature, substraction between two feature and multiplication between two feature."
   ]
  },
  {
   "cell_type": "code",
   "execution_count": 61,
   "metadata": {},
   "outputs": [],
   "source": [
    "\n",
    "def continuous_features_extraction(X):\n",
    "    # Create EntitySet\n",
    "    es = ft.EntitySet(id='Cover_Type')\n",
    "\n",
    "    # Add the input DataFrame as an entity\n",
    "    es = es.add_dataframe(\n",
    "        dataframe_name='X',\n",
    "        dataframe=X.iloc[:, :10],  # Corrected from oloc to iloc\n",
    "        make_index=True,\n",
    "        index='Index'  # Corrected typo 'Idex' to 'Index'\n",
    "    )\n",
    "\n",
    "    # Run deep feature synthesis with transformation primitives\n",
    "    new_features, feature_defs = ft.dfs(\n",
    "        entityset=es,\n",
    "        target_dataframe_name='X',\n",
    "        trans_primitives=['add_numeric', 'multiply_numeric', 'subtract_numeric'],\n",
    "        max_depth=1\n",
    "    )\n",
    "    print(feature_defs)\n",
    "\n",
    "    # Combine the new features with the original DataFrame\n",
    "    updated_X = pd.concat([X, new_features], axis=1)\n",
    "    # Removing duplicate columns by comparing columns in the original dataframe with new_features\n",
    "    duplicates = updated_X.columns.duplicated(keep='first')\n",
    "    updated_X = updated_X.loc[:, ~duplicates]\n",
    "\n",
    "    return updated_X\n"
   ]
  },
  {
   "cell_type": "code",
   "execution_count": 62,
   "metadata": {},
   "outputs": [
    {
     "name": "stdout",
     "output_type": "stream",
     "text": [
      "[<Feature: Elevation>, <Feature: Aspect>, <Feature: Slope>, <Feature: Horizontal_Distance_To_Hydrology>, <Feature: Vertical_Distance_To_Hydrology>, <Feature: Horizontal_Distance_To_Roadways>, <Feature: Hillshade_9am>, <Feature: Hillshade_Noon>, <Feature: Hillshade_3pm>, <Feature: Horizontal_Distance_To_Fire_Points>, <Feature: Aspect + Elevation>, <Feature: Aspect + Hillshade_3pm>, <Feature: Aspect + Hillshade_9am>, <Feature: Aspect + Hillshade_Noon>, <Feature: Aspect + Horizontal_Distance_To_Fire_Points>, <Feature: Aspect + Horizontal_Distance_To_Hydrology>, <Feature: Aspect + Horizontal_Distance_To_Roadways>, <Feature: Aspect + Slope>, <Feature: Aspect + Vertical_Distance_To_Hydrology>, <Feature: Elevation + Hillshade_3pm>, <Feature: Elevation + Hillshade_9am>, <Feature: Elevation + Hillshade_Noon>, <Feature: Elevation + Horizontal_Distance_To_Fire_Points>, <Feature: Elevation + Horizontal_Distance_To_Hydrology>, <Feature: Elevation + Horizontal_Distance_To_Roadways>, <Feature: Elevation + Slope>, <Feature: Elevation + Vertical_Distance_To_Hydrology>, <Feature: Hillshade_3pm + Hillshade_9am>, <Feature: Hillshade_3pm + Hillshade_Noon>, <Feature: Hillshade_3pm + Horizontal_Distance_To_Fire_Points>, <Feature: Hillshade_3pm + Horizontal_Distance_To_Hydrology>, <Feature: Hillshade_3pm + Horizontal_Distance_To_Roadways>, <Feature: Hillshade_3pm + Slope>, <Feature: Hillshade_3pm + Vertical_Distance_To_Hydrology>, <Feature: Hillshade_9am + Hillshade_Noon>, <Feature: Hillshade_9am + Horizontal_Distance_To_Fire_Points>, <Feature: Hillshade_9am + Horizontal_Distance_To_Hydrology>, <Feature: Hillshade_9am + Horizontal_Distance_To_Roadways>, <Feature: Hillshade_9am + Slope>, <Feature: Hillshade_9am + Vertical_Distance_To_Hydrology>, <Feature: Hillshade_Noon + Horizontal_Distance_To_Fire_Points>, <Feature: Hillshade_Noon + Horizontal_Distance_To_Hydrology>, <Feature: Hillshade_Noon + Horizontal_Distance_To_Roadways>, <Feature: Hillshade_Noon + Slope>, <Feature: Hillshade_Noon + Vertical_Distance_To_Hydrology>, <Feature: Horizontal_Distance_To_Fire_Points + Horizontal_Distance_To_Hydrology>, <Feature: Horizontal_Distance_To_Fire_Points + Horizontal_Distance_To_Roadways>, <Feature: Horizontal_Distance_To_Fire_Points + Slope>, <Feature: Horizontal_Distance_To_Fire_Points + Vertical_Distance_To_Hydrology>, <Feature: Horizontal_Distance_To_Hydrology + Horizontal_Distance_To_Roadways>, <Feature: Horizontal_Distance_To_Hydrology + Slope>, <Feature: Horizontal_Distance_To_Hydrology + Vertical_Distance_To_Hydrology>, <Feature: Horizontal_Distance_To_Roadways + Slope>, <Feature: Horizontal_Distance_To_Roadways + Vertical_Distance_To_Hydrology>, <Feature: Slope + Vertical_Distance_To_Hydrology>, <Feature: Aspect * Elevation>, <Feature: Aspect * Hillshade_3pm>, <Feature: Aspect * Hillshade_9am>, <Feature: Aspect * Hillshade_Noon>, <Feature: Aspect * Horizontal_Distance_To_Fire_Points>, <Feature: Aspect * Horizontal_Distance_To_Hydrology>, <Feature: Aspect * Horizontal_Distance_To_Roadways>, <Feature: Aspect * Slope>, <Feature: Aspect * Vertical_Distance_To_Hydrology>, <Feature: Elevation * Hillshade_3pm>, <Feature: Elevation * Hillshade_9am>, <Feature: Elevation * Hillshade_Noon>, <Feature: Elevation * Horizontal_Distance_To_Fire_Points>, <Feature: Elevation * Horizontal_Distance_To_Hydrology>, <Feature: Elevation * Horizontal_Distance_To_Roadways>, <Feature: Elevation * Slope>, <Feature: Elevation * Vertical_Distance_To_Hydrology>, <Feature: Hillshade_3pm * Hillshade_9am>, <Feature: Hillshade_3pm * Hillshade_Noon>, <Feature: Hillshade_3pm * Horizontal_Distance_To_Fire_Points>, <Feature: Hillshade_3pm * Horizontal_Distance_To_Hydrology>, <Feature: Hillshade_3pm * Horizontal_Distance_To_Roadways>, <Feature: Hillshade_3pm * Slope>, <Feature: Hillshade_3pm * Vertical_Distance_To_Hydrology>, <Feature: Hillshade_9am * Hillshade_Noon>, <Feature: Hillshade_9am * Horizontal_Distance_To_Fire_Points>, <Feature: Hillshade_9am * Horizontal_Distance_To_Hydrology>, <Feature: Hillshade_9am * Horizontal_Distance_To_Roadways>, <Feature: Hillshade_9am * Slope>, <Feature: Hillshade_9am * Vertical_Distance_To_Hydrology>, <Feature: Hillshade_Noon * Horizontal_Distance_To_Fire_Points>, <Feature: Hillshade_Noon * Horizontal_Distance_To_Hydrology>, <Feature: Hillshade_Noon * Horizontal_Distance_To_Roadways>, <Feature: Hillshade_Noon * Slope>, <Feature: Hillshade_Noon * Vertical_Distance_To_Hydrology>, <Feature: Horizontal_Distance_To_Fire_Points * Horizontal_Distance_To_Hydrology>, <Feature: Horizontal_Distance_To_Fire_Points * Horizontal_Distance_To_Roadways>, <Feature: Horizontal_Distance_To_Fire_Points * Slope>, <Feature: Horizontal_Distance_To_Fire_Points * Vertical_Distance_To_Hydrology>, <Feature: Horizontal_Distance_To_Hydrology * Horizontal_Distance_To_Roadways>, <Feature: Horizontal_Distance_To_Hydrology * Slope>, <Feature: Horizontal_Distance_To_Hydrology * Vertical_Distance_To_Hydrology>, <Feature: Horizontal_Distance_To_Roadways * Slope>, <Feature: Horizontal_Distance_To_Roadways * Vertical_Distance_To_Hydrology>, <Feature: Slope * Vertical_Distance_To_Hydrology>, <Feature: Aspect - Elevation>, <Feature: Aspect - Hillshade_3pm>, <Feature: Aspect - Hillshade_9am>, <Feature: Aspect - Hillshade_Noon>, <Feature: Aspect - Horizontal_Distance_To_Fire_Points>, <Feature: Aspect - Horizontal_Distance_To_Hydrology>, <Feature: Aspect - Horizontal_Distance_To_Roadways>, <Feature: Aspect - Slope>, <Feature: Aspect - Vertical_Distance_To_Hydrology>, <Feature: Elevation - Hillshade_3pm>, <Feature: Elevation - Hillshade_9am>, <Feature: Elevation - Hillshade_Noon>, <Feature: Elevation - Horizontal_Distance_To_Fire_Points>, <Feature: Elevation - Horizontal_Distance_To_Hydrology>, <Feature: Elevation - Horizontal_Distance_To_Roadways>, <Feature: Elevation - Slope>, <Feature: Elevation - Vertical_Distance_To_Hydrology>, <Feature: Hillshade_3pm - Hillshade_9am>, <Feature: Hillshade_3pm - Hillshade_Noon>, <Feature: Hillshade_3pm - Horizontal_Distance_To_Fire_Points>, <Feature: Hillshade_3pm - Horizontal_Distance_To_Hydrology>, <Feature: Hillshade_3pm - Horizontal_Distance_To_Roadways>, <Feature: Hillshade_3pm - Slope>, <Feature: Hillshade_3pm - Vertical_Distance_To_Hydrology>, <Feature: Hillshade_9am - Hillshade_Noon>, <Feature: Hillshade_9am - Horizontal_Distance_To_Fire_Points>, <Feature: Hillshade_9am - Horizontal_Distance_To_Hydrology>, <Feature: Hillshade_9am - Horizontal_Distance_To_Roadways>, <Feature: Hillshade_9am - Slope>, <Feature: Hillshade_9am - Vertical_Distance_To_Hydrology>, <Feature: Hillshade_Noon - Horizontal_Distance_To_Fire_Points>, <Feature: Hillshade_Noon - Horizontal_Distance_To_Hydrology>, <Feature: Hillshade_Noon - Horizontal_Distance_To_Roadways>, <Feature: Hillshade_Noon - Slope>, <Feature: Hillshade_Noon - Vertical_Distance_To_Hydrology>, <Feature: Horizontal_Distance_To_Fire_Points - Horizontal_Distance_To_Hydrology>, <Feature: Horizontal_Distance_To_Fire_Points - Horizontal_Distance_To_Roadways>, <Feature: Horizontal_Distance_To_Fire_Points - Slope>, <Feature: Horizontal_Distance_To_Fire_Points - Vertical_Distance_To_Hydrology>, <Feature: Horizontal_Distance_To_Hydrology - Horizontal_Distance_To_Roadways>, <Feature: Horizontal_Distance_To_Hydrology - Slope>, <Feature: Horizontal_Distance_To_Hydrology - Vertical_Distance_To_Hydrology>, <Feature: Horizontal_Distance_To_Roadways - Slope>, <Feature: Horizontal_Distance_To_Roadways - Vertical_Distance_To_Hydrology>, <Feature: Slope - Vertical_Distance_To_Hydrology>]\n"
     ]
    }
   ],
   "source": [
    "data = continuous_features_extraction(data)"
   ]
  },
  {
   "cell_type": "markdown",
   "metadata": {},
   "source": [
    "### 2. Categorical Encoding"
   ]
  },
  {
   "cell_type": "markdown",
   "metadata": {},
   "source": [
    "Soil Types: 1 to 40 : based on the USFS Ecological Landtype Units (ELUs) for this study area, where the ELU is comprised of four digits:\n",
    "\n",
    "   1) First digit: climatic zone\n",
    "   \n",
    "   2) Second digit: geologic zones\n",
    "   \n",
    "So here, intuitively we can extract two new features from the soil_type  which are:\n",
    "\n",
    "   - 'climatic zone'\n",
    "   \n",
    "   - 'geologic zone' "
   ]
  },
  {
   "cell_type": "code",
   "execution_count": 63,
   "metadata": {},
   "outputs": [],
   "source": [
    "# Mapping soil type to ELU code\n",
    "ELU_CODE = {\n",
    "    1:2702,2:2703,3:2704,4:2705,5:2706,6:2717,7:3501,8:3502,9:4201,\n",
    "    10:4703,11:4704,12:4744,13:4758,14:5101,15:5151,16:6101,17:6102,\n",
    "    18:6731,19:7101,20:7102,21:7103,22:7201,23:7202,24:7700,25:7701,\n",
    "    26:7702,27:7709,28:7710,29:7745,30:7746,31:7755,32:7756,33:7757,\n",
    "    34:7790,35:8703,36:8707,37:8708,38:8771,39:8772,40:8776\n",
    "}"
   ]
  },
  {
   "cell_type": "markdown",
   "metadata": {},
   "source": [
    "To improve one the performence of model in the classical midel like tree-based model, it works better without one-hot encodind, so we extract soil type by reverse one-hot encoding.We will enventually drop the original soil type columns which has the added effect of significantly reducing the total number of feature."
   ]
  },
  {
   "cell_type": "code",
   "execution_count": 64,
   "metadata": {},
   "outputs": [],
   "source": [
    "def categorical_encoding(data):\n",
    "    data = data.copy()\n",
    "    data['Soil_Type'] = 0\n",
    "    for i in range(1, 41):\n",
    "        data['Soil_Type'] += i * data['Soil_Type' + str(i)]\n",
    "    return data"
   ]
  },
  {
   "cell_type": "code",
   "execution_count": 65,
   "metadata": {},
   "outputs": [],
   "source": [
    "data = categorical_encoding(data)"
   ]
  },
  {
   "cell_type": "markdown",
   "metadata": {},
   "source": [
    "### 3. Climatic Zone"
   ]
  },
  {
   "cell_type": "markdown",
   "metadata": {},
   "source": [
    "We now create a feature based on the climatic zone of the soil. To reach this, we determine the climatic zon by the first digit of the ELU code. The climatic zone determined by a natural ordering as follow:\n",
    "\n",
    "1. lower montane dry\n",
    "2. lower montane\n",
    "3. montane dry\n",
    "4. montane\n",
    "5. montane dry and montane\n",
    "6. montane and subalpine\n",
    "7. subalpine\n",
    "8. alpine"
   ]
  },
  {
   "cell_type": "code",
   "execution_count": 66,
   "metadata": {},
   "outputs": [],
   "source": [
    "def climatical_zone(df):\n",
    "    df = df.copy()\n",
    "    df['Climatic_Zone'] = df['Soil_Type'].apply(lambda x: int(str(ELU_CODE[x])[0]))\n",
    "    return df"
   ]
  },
  {
   "cell_type": "code",
   "execution_count": 67,
   "metadata": {},
   "outputs": [],
   "source": [
    "data = climatical_zone(data)"
   ]
  },
  {
   "cell_type": "markdown",
   "metadata": {},
   "source": [
    "### 4. Geologic Zone"
   ]
  },
  {
   "cell_type": "markdown",
   "metadata": {},
   "source": [
    "Now the we extract a new feaature call geological_zone from the soil type, determined by the second digit in the ELU code. Here is the natural order of geologic zone:\n",
    "\n",
    "1. alluvium\n",
    "2. glacial\n",
    "3. shale\n",
    "4. sandstone\n",
    "5. mixed sedimentary\n",
    "6. unspecified in the USFS ELU Survey\n",
    "7. igneous and metamorphic\n",
    "8. volcanic"
   ]
  },
  {
   "cell_type": "code",
   "execution_count": 68,
   "metadata": {},
   "outputs": [],
   "source": [
    "def geologic_zone(df):\n",
    "    df = df.copy()\n",
    "    df['Geologic_Zone'] = df['Soil_Type'].apply(lambda x: int(str(ELU_CODE[x])[1]))\n",
    "    return df"
   ]
  },
  {
   "cell_type": "code",
   "execution_count": 69,
   "metadata": {},
   "outputs": [],
   "source": [
    "data = geologic_zone(data)"
   ]
  },
  {
   "cell_type": "markdown",
   "metadata": {},
   "source": [
    "### 5. Surface cover"
   ]
  },
  {
   "cell_type": "markdown",
   "metadata": {},
   "source": [
    "We can also extract the surface cover from the ELUs code because on top of the ELUs code, each soil_type has their description. For example, 1: ELU 2702, Cathedral family - Rock outcrop complex, extremely stony. We can see that it gives information about the type of surface that cover that area:\n",
    "\n",
    "1. stony\n",
    "2. very stony\n",
    "3. extremely stony\n",
    "4. rubbly\n",
    "5. no_description (no_desc)\n"
   ]
  },
  {
   "cell_type": "code",
   "execution_count": 70,
   "metadata": {},
   "outputs": [],
   "source": [
    "def surface_cover(data):\n",
    "    # from ELU code from the soil type\n",
    "    no_desc = [7,8,14,15,16,17,19,20,21,23,35]\n",
    "    stony = [6,12]\n",
    "    very_stony = [2,9,18,26]\n",
    "    extremely_stony = [1,22,24,25,27,28,29,30,31,32,33,34,36,37,38,39,40]\n",
    "    rubbly = [3,4,5,10,11,13]\n",
    "    \n",
    "    # Create dictionary to your the type of surface\n",
    "    surface_cover = {i:0 for i in no_desc}\n",
    "    surface_cover.update({i:1 for i in stony})\n",
    "    surface_cover.update({i:2 for i in very_stony})\n",
    "    surface_cover.update({i:3 for i in extremely_stony})\n",
    "    surface_cover.update({i:4 for i in rubbly})\n",
    "    \n",
    "    # Create Feature\n",
    "    df = data.copy()\n",
    "    df['Surface_Cover'] = data['Soil_Type'].apply(\n",
    "        lambda x: surface_cover[x]\n",
    "    )\n",
    "    return df"
   ]
  },
  {
   "cell_type": "code",
   "execution_count": 71,
   "metadata": {},
   "outputs": [],
   "source": [
    "data = surface_cover(data)"
   ]
  },
  {
   "cell_type": "markdown",
   "metadata": {},
   "source": [
    "On top of surface cover, we can also extract the type of rock by combining the last two components of the description of 'soil_type'."
   ]
  },
  {
   "cell_type": "code",
   "execution_count": 72,
   "metadata": {},
   "outputs": [],
   "source": [
    "def rock_type(data):\n",
    "    # Group IDs\n",
    "    no_desc = [7,8,14,15,16,17,19,20,21,23,35]\n",
    "    stones = [1,2,6,9,12,18,24,25,26,27,28,29,30,31,32,33,34,36,37,38,39,40]\n",
    "    boulders = [22]\n",
    "    rubble = [3,4,5,10,11,13]\n",
    "\n",
    "    # Create dictionary\n",
    "    rock_size = {i:0 for i in no_desc}\n",
    "    rock_size.update({i:1 for i in stones})\n",
    "    rock_size.update({i:2 for i in boulders})\n",
    "    rock_size.update({i:3 for i in rubble})\n",
    "    \n",
    "    df = data.copy()\n",
    "    df['Rock_Size'] = df['Soil_Type'].apply(\n",
    "        lambda x: rock_size[x]\n",
    "    )\n",
    "    return data"
   ]
  },
  {
   "cell_type": "code",
   "execution_count": 73,
   "metadata": {},
   "outputs": [],
   "source": [
    "data = rock_type(data)"
   ]
  },
  {
   "cell_type": "markdown",
   "metadata": {},
   "source": [
    "**Wilderness Areas:**\n",
    "\n",
    "   1) Rawah Wilderness Area\n",
    "\n",
    "   2) Neota Wilderness Area\n",
    "\n",
    "   3) Comanche Peak Wilderness Area\n",
    "    \n",
    "   4) Cache la Poudre Wilderness Area\n",
    "\n",
    "   So, by doing linear combination between 'Wilderness_Area' and 'Climatic_Zone','Rock_Size','Surface_Cover', we can get new features that can possibly capture non-linear relatinships between features and the target variable."
   ]
  },
  {
   "cell_type": "code",
   "execution_count": 74,
   "metadata": {},
   "outputs": [],
   "source": [
    "def non_linear_relationship(data):\n",
    "    df = data.copy()\n",
    "    #  New Feature\n",
    "    df['Climate_Area1'] = df['Wilderness_Area1']*df['Climatic_Zone'] \n",
    "    df['Climate_Area2'] = df['Wilderness_Area2']*df['Climatic_Zone'] \n",
    "    df['Climate_Area3'] = df['Wilderness_Area3']*df['Climatic_Zone'] \n",
    "    df['Climate_Area4'] = df['Wilderness_Area4']*df['Climatic_Zone'] \n",
    "    df['Rock_Area1'] = df['Wilderness_Area1']*df['Rock_Size']\n",
    "    df['Rock_Area2'] = df['Wilderness_Area2']*df['Rock_Size']    \n",
    "    df['Rock_Area3'] = df['Wilderness_Area3']*df['Rock_Size']  \n",
    "    df['Rock_Area4'] = df['Wilderness_Area4']*df['Rock_Size']    \n",
    "    df['Surface_Area1'] = df['Wilderness_Area1']*df['Surface_Cover'] \n",
    "    df['Surface_Area2'] = df['Wilderness_Area2']*df['Surface_Cover'] \n",
    "    df['Surface_Area3'] = df['Wilderness_Area3']*df['Surface_Cover'] \n",
    "    df['Surface_Area4'] = df['Wilderness_Area4']*df['Surface_Cover'] \n",
    "    \n",
    "    return df"
   ]
  },
  {
   "cell_type": "code",
   "execution_count": 76,
   "metadata": {},
   "outputs": [],
   "source": [
    "#data = non_linear_relationship(data)"
   ]
  },
  {
   "cell_type": "markdown",
   "metadata": {},
   "source": [
    "## Dimensional Reduction"
   ]
  },
  {
   "cell_type": "code",
   "execution_count": 77,
   "metadata": {},
   "outputs": [],
   "source": [
    "# Selecting the features\n",
    "X = data.drop('Cover_Type', axis=1)\n",
    "\n",
    "# Create a standard scaler\n",
    "scaler = StandardScaler()\n",
    "\n",
    "# Fit the scaler to the features and transform\n",
    "X_scale = scaler.fit_transform(X)\n",
    "\n",
    "\n",
    "# Create a PCA object\n",
    "pca = PCA(n_components=0.95)\n",
    "pca.fit(X_scale)\n",
    "\n",
    "# Transform the scaled features\n",
    "X_pca = pca.transform(X_scale)\n"
   ]
  },
  {
   "cell_type": "markdown",
   "metadata": {},
   "source": [
    "## Train the model"
   ]
  },
  {
   "cell_type": "code",
   "execution_count": 78,
   "metadata": {},
   "outputs": [],
   "source": [
    "from sklearn.linear_model import LogisticRegression\n",
    "from sklearn.neighbors import KNeighborsClassifier\n",
    "from sklearn.tree import DecisionTreeClassifier\n",
    "from sklearn.svm import SVC\n",
    "from sklearn.ensemble import RandomForestClassifier\n",
    "from sklearn.naive_bayes import GaussianNB\n",
    "from sklearn.ensemble import GradientBoostingClassifier\n",
    "from lightgbm import LGBMClassifier\n",
    "from xgboost import XGBClassifier\n",
    "from sklearn.ensemble import ExtraTreesClassifier\n",
    "from sklearn.metrics import accuracy_score\n",
    "from sklearn.model_selection import train_test_split"
   ]
  },
  {
   "cell_type": "code",
   "execution_count": 79,
   "metadata": {},
   "outputs": [],
   "source": [
    "# Split the data into train and test\n",
    "y = train_data['Cover_Type']\n",
    "X_train, X_test, y_train, y_test = train_test_split(X_pca, y, test_size=0.2, random_state=42)"
   ]
  },
  {
   "cell_type": "code",
   "execution_count": 80,
   "metadata": {},
   "outputs": [],
   "source": [
    "def train_evaluation_model(X_train, y_train, X_test, y_test, n_fold, model):\n",
    "    # Fit the model\n",
    "    model.fit(X_train, y_train)\n",
    "    \n",
    "    # test the model with the trainning data\n",
    "    y_train_pred = model.predict(X_train)\n",
    "    train_accuracy = accuracy_score(y_train, y_train_pred)\n",
    "    print('Training data accuracy:', train_accuracy)\n",
    "    \n",
    "    # test the model with the test data\n",
    "    y_test_pred = model.predict(X_test)\n",
    "    test_accuracy = accuracy_score(y_test, y_test_pred)\n",
    "    print('Testing data accuracy:', test_accuracy)\n",
    "    \n",
    "    # evaluate the model using cross validation\n",
    "    X_cross = np.concatenate((X_train, X_test), axis=0)\n",
    "    y_cross = np.concatenate((y_train, y_test), axis=0)\n",
    "    cross_val = cross_val_score(model, X_cross, y_cross, cv=n_fold)\n",
    "    print('Cross Validation:', cross_val)\t\n",
    "    print('Cross Validation Mean:', cross_val.mean())\n",
    "    \n",
    "    return y_test_pred, model"
   ]
  },
  {
   "cell_type": "code",
   "execution_count": 82,
   "metadata": {},
   "outputs": [],
   "source": [
    "def train_test_all_model(X_train, y_train, X_test, y_test, n_fold):\n",
    "    # Define models\n",
    "    models = [\n",
    "        (\"LogisticRegression\", LogisticRegression(max_iter=1000, multi_class='multinomial')),\n",
    "        (\"KNeighborsClassifier\", KNeighborsClassifier()),\n",
    "        (\"GaussianNB\", GaussianNB()),\n",
    "        (\"SVC\", SVC()),\n",
    "        (\"DecisionTreeClassifier\", DecisionTreeClassifier()),\n",
    "        (\"RandomForestClassifier\", RandomForestClassifier()),\n",
    "        (\"ExtraTreesClassifier\", ExtraTreesClassifier()),\n",
    "        (\"GradientBoostingClassifier\", GradientBoostingClassifier()),\n",
    "        (\"LGBMClassifier\", LGBMClassifier(objective='multiclass')),\n",
    "        (\"XGBClassifier\", XGBClassifier(objective='multi:softmax', num_class=7))\n",
    "    ]\n",
    "\n",
    "    # Store results\n",
    "    results = []\n",
    "\n",
    "    for name, model in models:\n",
    "        print(f\"Training {name}...\")\n",
    "\n",
    "        # Adjust labels for XGBClassifier\n",
    "        if isinstance(model, XGBClassifier):\n",
    "            y_train_adjusted = y_train - 1  # Convert to 0-based indexing\n",
    "            y_test_adjusted = y_test - 1\n",
    "            # Train and evaluate\n",
    "            model.fit(X_train, y_train_adjusted)\n",
    "            y_pred = model.predict(X_test) + 1  # Restore original labels\n",
    "            y_train_pred = model.predict(X_train) + 1\n",
    "        else:\n",
    "            # Train and evaluate for other models\n",
    "            model.fit(X_train, y_train)\n",
    "            y_pred = model.predict(X_test)\n",
    "            y_train_pred = model.predict(X_train)\n",
    "\n",
    "        # Calculate accuracies\n",
    "        train_accuracy = accuracy_score(y_train, y_train_pred)\n",
    "        test_accuracy = accuracy_score(y_test, y_pred)\n",
    "\n",
    "        # Cross-validation\n",
    "        if isinstance(model, XGBClassifier):\n",
    "            cv_scores = cross_val_score(model, X_train, y_train_adjusted, cv=n_fold, scoring='accuracy')\n",
    "        else:\n",
    "            cv_scores = cross_val_score(model, X_train, y_train, cv=n_fold, scoring='accuracy')\n",
    "\n",
    "        print(f\"{name} - Training Accuracy: {train_accuracy}\")\n",
    "        print(f\"{name} - Test Accuracy: {test_accuracy}\")\n",
    "        print(f\"{name} - Cross Validation Scores: {cv_scores}\")\n",
    "        print(f\"{name} - Cross Validation Mean Accuracy: {cv_scores.mean()}\")\n",
    "\n",
    "        # Append results\n",
    "        results.append({\n",
    "            \"model\": name,\n",
    "            \"train_accuracy\": train_accuracy,\n",
    "            \"test_accuracy\": test_accuracy,\n",
    "            \"cv_scores\": list(cv_scores),\n",
    "            \"cv_mean_accuracy\": cv_scores.mean()\n",
    "        })\n",
    "\n",
    "        print('------------------------------------')\n",
    "\n",
    "    return results\n"
   ]
  },
  {
   "cell_type": "markdown",
   "metadata": {},
   "source": [
    "### Models Used in the Comparison\n",
    "Here is a list of models that we use to compare for our project:\n",
    "\n",
    "1. Logistic Regression\n",
    "\n",
    "2. K-Nearest Neighbors (KNN)\n",
    "\n",
    "3. Gaussian Naive Bayes\n",
    "\n",
    "4. Support Vector Classifier (SVC)\n",
    "\n",
    "5. Decision Tree Classifier\n",
    "\n",
    "6. Random Forest Classifier\n",
    "\n",
    "7. Extra Trees Classifier\n",
    "\n",
    "8. Gradient Boosting Classifier\n",
    "\n",
    "9. LightGBM (LGBMClassifier)\n",
    "\n",
    "11. XGBoost Classifier\n",
    "   "
   ]
  },
  {
   "cell_type": "code",
   "execution_count": 83,
   "metadata": {},
   "outputs": [
    {
     "name": "stdout",
     "output_type": "stream",
     "text": [
      "Training LogisticRegression...\n"
     ]
    },
    {
     "name": "stderr",
     "output_type": "stream",
     "text": [
      "c:\\Users\\ASUS\\anaconda3\\envs\\inf554\\Lib\\site-packages\\sklearn\\linear_model\\_logistic.py:1247: FutureWarning: 'multi_class' was deprecated in version 1.5 and will be removed in 1.7. From then on, it will always use 'multinomial'. Leave it to its default value to avoid this warning.\n",
      "  warnings.warn(\n",
      "c:\\Users\\ASUS\\anaconda3\\envs\\inf554\\Lib\\site-packages\\sklearn\\linear_model\\_logistic.py:1247: FutureWarning: 'multi_class' was deprecated in version 1.5 and will be removed in 1.7. From then on, it will always use 'multinomial'. Leave it to its default value to avoid this warning.\n",
      "  warnings.warn(\n",
      "c:\\Users\\ASUS\\anaconda3\\envs\\inf554\\Lib\\site-packages\\sklearn\\linear_model\\_logistic.py:1247: FutureWarning: 'multi_class' was deprecated in version 1.5 and will be removed in 1.7. From then on, it will always use 'multinomial'. Leave it to its default value to avoid this warning.\n",
      "  warnings.warn(\n",
      "c:\\Users\\ASUS\\anaconda3\\envs\\inf554\\Lib\\site-packages\\sklearn\\linear_model\\_logistic.py:1247: FutureWarning: 'multi_class' was deprecated in version 1.5 and will be removed in 1.7. From then on, it will always use 'multinomial'. Leave it to its default value to avoid this warning.\n",
      "  warnings.warn(\n",
      "c:\\Users\\ASUS\\anaconda3\\envs\\inf554\\Lib\\site-packages\\sklearn\\linear_model\\_logistic.py:1247: FutureWarning: 'multi_class' was deprecated in version 1.5 and will be removed in 1.7. From then on, it will always use 'multinomial'. Leave it to its default value to avoid this warning.\n",
      "  warnings.warn(\n",
      "c:\\Users\\ASUS\\anaconda3\\envs\\inf554\\Lib\\site-packages\\sklearn\\linear_model\\_logistic.py:1247: FutureWarning: 'multi_class' was deprecated in version 1.5 and will be removed in 1.7. From then on, it will always use 'multinomial'. Leave it to its default value to avoid this warning.\n",
      "  warnings.warn(\n"
     ]
    },
    {
     "name": "stdout",
     "output_type": "stream",
     "text": [
      "LogisticRegression - Training Accuracy: 0.7062665343915344\n",
      "LogisticRegression - Test Accuracy: 0.7159391534391535\n",
      "LogisticRegression - Cross Validation Scores: [0.69628099 0.70855726 0.69532865 0.69739562 0.69739562]\n",
      "LogisticRegression - Cross Validation Mean Accuracy: 0.6989916262098607\n",
      "------------------------------------\n",
      "Training KNeighborsClassifier...\n",
      "KNeighborsClassifier - Training Accuracy: 0.8680555555555556\n",
      "KNeighborsClassifier - Test Accuracy: 0.7943121693121693\n",
      "KNeighborsClassifier - Cross Validation Scores: [0.79256198 0.79371641 0.7738735  0.7809012  0.78627532]\n",
      "KNeighborsClassifier - Cross Validation Mean Accuracy: 0.7854656831762322\n",
      "------------------------------------\n",
      "Training GaussianNB...\n",
      "GaussianNB - Training Accuracy: 0.4228670634920635\n",
      "GaussianNB - Test Accuracy: 0.41798941798941797\n",
      "GaussianNB - Cross Validation Scores: [0.40991736 0.4175279  0.44853245 0.42000827 0.42538239]\n",
      "GaussianNB - Cross Validation Mean Accuracy: 0.42427367363742274\n",
      "------------------------------------\n",
      "Training SVC...\n",
      "SVC - Training Accuracy: 0.8036541005291006\n",
      "SVC - Test Accuracy: 0.7883597883597884\n",
      "SVC - Cross Validation Scores: [0.77396694 0.77056635 0.76395205 0.77346011 0.77221993]\n",
      "SVC - Cross Validation Mean Accuracy: 0.7708330742503391\n",
      "------------------------------------\n",
      "Training DecisionTreeClassifier...\n",
      "DecisionTreeClassifier - Training Accuracy: 1.0\n",
      "DecisionTreeClassifier - Test Accuracy: 0.7265211640211641\n",
      "DecisionTreeClassifier - Cross Validation Scores: [0.73016529 0.72881356 0.70276974 0.7259198  0.72137247]\n",
      "DecisionTreeClassifier - Cross Validation Mean Accuracy: 0.7218081715345799\n",
      "------------------------------------\n",
      "Training RandomForestClassifier...\n",
      "RandomForestClassifier - Training Accuracy: 1.0\n",
      "RandomForestClassifier - Test Accuracy: 0.8336640211640212\n",
      "RandomForestClassifier - Cross Validation Scores: [0.82727273 0.81231914 0.80322447 0.81438611 0.82017363]\n",
      "RandomForestClassifier - Cross Validation Mean Accuracy: 0.8154752151527678\n",
      "------------------------------------\n",
      "Training ExtraTreesClassifier...\n",
      "ExtraTreesClassifier - Training Accuracy: 1.0\n",
      "ExtraTreesClassifier - Test Accuracy: 0.8343253968253969\n",
      "ExtraTreesClassifier - Cross Validation Scores: [0.83181818 0.82058702 0.8147995  0.82100041 0.82430757]\n",
      "ExtraTreesClassifier - Cross Validation Mean Accuracy: 0.8225025367356908\n",
      "------------------------------------\n",
      "Training GradientBoostingClassifier...\n",
      "GradientBoostingClassifier - Training Accuracy: 0.8425099206349206\n",
      "GradientBoostingClassifier - Test Accuracy: 0.7685185185185185\n",
      "GradientBoostingClassifier - Cross Validation Scores: [0.75247934 0.74617611 0.75155023 0.76064489 0.76767259]\n",
      "GradientBoostingClassifier - Cross Validation Mean Accuracy: 0.7557046317206413\n",
      "------------------------------------\n",
      "Training LGBMClassifier...\n",
      "[LightGBM] [Info] Auto-choosing col-wise multi-threading, the overhead of testing was 0.000905 seconds.\n",
      "You can set `force_col_wise=true` to remove the overhead.\n",
      "[LightGBM] [Info] Total Bins 10455\n",
      "[LightGBM] [Info] Number of data points in the train set: 12096, number of used features: 41\n",
      "[LightGBM] [Info] Start training from score -1.943021\n",
      "[LightGBM] [Info] Start training from score -1.964602\n",
      "[LightGBM] [Info] Start training from score -1.927561\n",
      "[LightGBM] [Info] Start training from score -1.948228\n",
      "[LightGBM] [Info] Start training from score -1.957552\n",
      "[LightGBM] [Info] Start training from score -1.936120\n",
      "[LightGBM] [Info] Start training from score -1.944753\n",
      "[LightGBM] [Info] Auto-choosing col-wise multi-threading, the overhead of testing was 0.001251 seconds.\n",
      "You can set `force_col_wise=true` to remove the overhead.\n",
      "[LightGBM] [Info] Total Bins 10455\n",
      "[LightGBM] [Info] Number of data points in the train set: 9676, number of used features: 41\n",
      "[LightGBM] [Info] Start training from score -1.943227\n",
      "[LightGBM] [Info] Start training from score -1.965109\n",
      "[LightGBM] [Info] Start training from score -1.927478\n",
      "[LightGBM] [Info] Start training from score -1.948290\n",
      "[LightGBM] [Info] Start training from score -1.957030\n",
      "[LightGBM] [Info] Start training from score -1.936038\n",
      "[LightGBM] [Info] Start training from score -1.944671\n",
      "[LightGBM] [Info] Auto-choosing col-wise multi-threading, the overhead of testing was 0.001136 seconds.\n",
      "You can set `force_col_wise=true` to remove the overhead.\n",
      "[LightGBM] [Info] Total Bins 10455\n",
      "[LightGBM] [Info] Number of data points in the train set: 9677, number of used features: 41\n",
      "[LightGBM] [Info] Start training from score -1.943330\n",
      "[LightGBM] [Info] Start training from score -1.964476\n",
      "[LightGBM] [Info] Start training from score -1.927582\n",
      "[LightGBM] [Info] Start training from score -1.948393\n",
      "[LightGBM] [Info] Start training from score -1.957133\n",
      "[LightGBM] [Info] Start training from score -1.936141\n",
      "[LightGBM] [Info] Start training from score -1.944774\n",
      "[LightGBM] [Info] Auto-choosing col-wise multi-threading, the overhead of testing was 0.001132 seconds.\n",
      "You can set `force_col_wise=true` to remove the overhead.\n",
      "[LightGBM] [Info] Total Bins 10455\n",
      "[LightGBM] [Info] Number of data points in the train set: 9677, number of used features: 41\n",
      "[LightGBM] [Info] Start training from score -1.942609\n",
      "[LightGBM] [Info] Start training from score -1.964476\n",
      "[LightGBM] [Info] Start training from score -1.927582\n",
      "[LightGBM] [Info] Start training from score -1.948393\n",
      "[LightGBM] [Info] Start training from score -1.957865\n",
      "[LightGBM] [Info] Start training from score -1.936141\n",
      "[LightGBM] [Info] Start training from score -1.944774\n",
      "[LightGBM] [Info] Auto-choosing col-wise multi-threading, the overhead of testing was 0.001313 seconds.\n",
      "You can set `force_col_wise=true` to remove the overhead.\n",
      "[LightGBM] [Info] Total Bins 10455\n",
      "[LightGBM] [Info] Number of data points in the train set: 9677, number of used features: 41\n",
      "[LightGBM] [Info] Start training from score -1.942609\n",
      "[LightGBM] [Info] Start training from score -1.964476\n",
      "[LightGBM] [Info] Start training from score -1.927582\n",
      "[LightGBM] [Info] Start training from score -1.948393\n",
      "[LightGBM] [Info] Start training from score -1.957865\n",
      "[LightGBM] [Info] Start training from score -1.936141\n",
      "[LightGBM] [Info] Start training from score -1.944774\n",
      "[LightGBM] [Info] Auto-choosing col-wise multi-threading, the overhead of testing was 0.001064 seconds.\n",
      "You can set `force_col_wise=true` to remove the overhead.\n",
      "[LightGBM] [Info] Total Bins 10455\n",
      "[LightGBM] [Info] Number of data points in the train set: 9677, number of used features: 41\n",
      "[LightGBM] [Info] Start training from score -1.943330\n",
      "[LightGBM] [Info] Start training from score -1.964476\n",
      "[LightGBM] [Info] Start training from score -1.927582\n",
      "[LightGBM] [Info] Start training from score -1.947668\n",
      "[LightGBM] [Info] Start training from score -1.957865\n",
      "[LightGBM] [Info] Start training from score -1.936141\n",
      "[LightGBM] [Info] Start training from score -1.944774\n",
      "LGBMClassifier - Training Accuracy: 0.9952050264550265\n",
      "LGBMClassifier - Test Accuracy: 0.8323412698412699\n",
      "LGBMClassifier - Cross Validation Scores: [0.82603306 0.82265399 0.80735841 0.82513435 0.81976023]\n",
      "LGBMClassifier - Cross Validation Mean Accuracy: 0.8201880088418477\n",
      "------------------------------------\n",
      "Training XGBClassifier...\n",
      "XGBClassifier - Training Accuracy: 0.9994212962962963\n",
      "XGBClassifier - Test Accuracy: 0.8303571428571429\n",
      "XGBClassifier - Cross Validation Scores: [0.8231405  0.82430757 0.80446465 0.81769326 0.81810666]\n",
      "XGBClassifier - Cross Validation Mean Accuracy: 0.817542526622913\n",
      "------------------------------------\n"
     ]
    }
   ],
   "source": [
    "results_scaled_data_pca = train_test_all_model(X_train, y_train, X_test, y_test, 5)"
   ]
  },
  {
   "cell_type": "markdown",
   "metadata": {},
   "source": [
    "Now let compare the result for our scaling dataset with dimensional reduction using PAC."
   ]
  },
  {
   "cell_type": "code",
   "execution_count": 84,
   "metadata": {},
   "outputs": [
    {
     "data": {
      "image/png": "[encoded data removed]",
      "text/plain": [
       "<Figure size 1000x600 with 1 Axes>"
      ]
     },
     "metadata": {},
     "output_type": "display_data"
    },
    {
     "data": {
      "text/html": [
       "<div>\n",
       "<style scoped>\n",
       "    .dataframe tbody tr th:only-of-type {\n",
       "        vertical-align: middle;\n",
       "    }\n",
       "\n",
       "    .dataframe tbody tr th {\n",
       "        vertical-align: top;\n",
       "    }\n",
       "\n",
       "    .dataframe thead th {\n",
       "        text-align: right;\n",
       "    }\n",
       "</style>\n",
       "<table border=\"1\" class=\"dataframe\">\n",
       "  <thead>\n",
       "    <tr style=\"text-align: right;\">\n",
       "      <th></th>\n",
       "      <th>model</th>\n",
       "      <th>train_accuracy</th>\n",
       "      <th>test_accuracy</th>\n",
       "      <th>cv_scores</th>\n",
       "      <th>cv_mean_accuracy</th>\n",
       "    </tr>\n",
       "  </thead>\n",
       "  <tbody>\n",
       "    <tr>\n",
       "      <th>0</th>\n",
       "      <td>LogisticRegression</td>\n",
       "      <td>0.706267</td>\n",
       "      <td>0.715939</td>\n",
       "      <td>[0.6962809917355371, 0.7085572550640761, 0.695...</td>\n",
       "      <td>0.698992</td>\n",
       "    </tr>\n",
       "    <tr>\n",
       "      <th>1</th>\n",
       "      <td>KNeighborsClassifier</td>\n",
       "      <td>0.868056</td>\n",
       "      <td>0.794312</td>\n",
       "      <td>[0.7925619834710744, 0.7937164117403885, 0.773...</td>\n",
       "      <td>0.785466</td>\n",
       "    </tr>\n",
       "    <tr>\n",
       "      <th>2</th>\n",
       "      <td>GaussianNB</td>\n",
       "      <td>0.422867</td>\n",
       "      <td>0.417989</td>\n",
       "      <td>[0.4099173553719008, 0.41752790409260027, 0.44...</td>\n",
       "      <td>0.424274</td>\n",
       "    </tr>\n",
       "    <tr>\n",
       "      <th>3</th>\n",
       "      <td>SVC</td>\n",
       "      <td>0.803654</td>\n",
       "      <td>0.788360</td>\n",
       "      <td>[0.7739669421487604, 0.7705663497312939, 0.763...</td>\n",
       "      <td>0.770833</td>\n",
       "    </tr>\n",
       "    <tr>\n",
       "      <th>4</th>\n",
       "      <td>DecisionTreeClassifier</td>\n",
       "      <td>1.000000</td>\n",
       "      <td>0.726521</td>\n",
       "      <td>[0.7301652892561984, 0.7288135593220338, 0.702...</td>\n",
       "      <td>0.721808</td>\n",
       "    </tr>\n",
       "    <tr>\n",
       "      <th>5</th>\n",
       "      <td>RandomForestClassifier</td>\n",
       "      <td>1.000000</td>\n",
       "      <td>0.833664</td>\n",
       "      <td>[0.8272727272727273, 0.812319140140554, 0.8032...</td>\n",
       "      <td>0.815475</td>\n",
       "    </tr>\n",
       "    <tr>\n",
       "      <th>6</th>\n",
       "      <td>ExtraTreesClassifier</td>\n",
       "      <td>1.000000</td>\n",
       "      <td>0.834325</td>\n",
       "      <td>[0.8318181818181818, 0.8205870194295163, 0.814...</td>\n",
       "      <td>0.822503</td>\n",
       "    </tr>\n",
       "    <tr>\n",
       "      <th>7</th>\n",
       "      <td>GradientBoostingClassifier</td>\n",
       "      <td>0.842510</td>\n",
       "      <td>0.768519</td>\n",
       "      <td>[0.7524793388429752, 0.7461761058288549, 0.751...</td>\n",
       "      <td>0.755705</td>\n",
       "    </tr>\n",
       "    <tr>\n",
       "      <th>8</th>\n",
       "      <td>LGBMClassifier</td>\n",
       "      <td>0.995205</td>\n",
       "      <td>0.832341</td>\n",
       "      <td>[0.8260330578512397, 0.8226539892517569, 0.807...</td>\n",
       "      <td>0.820188</td>\n",
       "    </tr>\n",
       "    <tr>\n",
       "      <th>9</th>\n",
       "      <td>XGBClassifier</td>\n",
       "      <td>0.999421</td>\n",
       "      <td>0.830357</td>\n",
       "      <td>[0.8231404958677686, 0.8243075651095494, 0.804...</td>\n",
       "      <td>0.817543</td>\n",
       "    </tr>\n",
       "  </tbody>\n",
       "</table>\n",
       "</div>"
      ],
      "text/plain": [
       "                        model  train_accuracy  test_accuracy  \\\n",
       "0          LogisticRegression        0.706267       0.715939   \n",
       "1        KNeighborsClassifier        0.868056       0.794312   \n",
       "2                  GaussianNB        0.422867       0.417989   \n",
       "3                         SVC        0.803654       0.788360   \n",
       "4      DecisionTreeClassifier        1.000000       0.726521   \n",
       "5      RandomForestClassifier        1.000000       0.833664   \n",
       "6        ExtraTreesClassifier        1.000000       0.834325   \n",
       "7  GradientBoostingClassifier        0.842510       0.768519   \n",
       "8              LGBMClassifier        0.995205       0.832341   \n",
       "9               XGBClassifier        0.999421       0.830357   \n",
       "\n",
       "                                           cv_scores  cv_mean_accuracy  \n",
       "0  [0.6962809917355371, 0.7085572550640761, 0.695...          0.698992  \n",
       "1  [0.7925619834710744, 0.7937164117403885, 0.773...          0.785466  \n",
       "2  [0.4099173553719008, 0.41752790409260027, 0.44...          0.424274  \n",
       "3  [0.7739669421487604, 0.7705663497312939, 0.763...          0.770833  \n",
       "4  [0.7301652892561984, 0.7288135593220338, 0.702...          0.721808  \n",
       "5  [0.8272727272727273, 0.812319140140554, 0.8032...          0.815475  \n",
       "6  [0.8318181818181818, 0.8205870194295163, 0.814...          0.822503  \n",
       "7  [0.7524793388429752, 0.7461761058288549, 0.751...          0.755705  \n",
       "8  [0.8260330578512397, 0.8226539892517569, 0.807...          0.820188  \n",
       "9  [0.8231404958677686, 0.8243075651095494, 0.804...          0.817543  "
      ]
     },
     "execution_count": 84,
     "metadata": {},
     "output_type": "execute_result"
    }
   ],
   "source": [
    "# Plot results\n",
    "def plot_results(results):\n",
    "    # Create a DataFrame\n",
    "    df = pd.DataFrame(results)\n",
    "\n",
    "    # Plot\n",
    "    plt.figure(figsize=(10, 6))\n",
    "    sns.barplot(data=df, x='cv_mean_accuracy', y='model', color='skyblue')\n",
    "    plt.xlabel('Accuracy')\n",
    "    plt.title('Cross Validation Mean Accuracy of Models')\n",
    "    plt.show()\n",
    "\n",
    "    return df\n",
    "plot_results(results_scaled_data_pca)"
   ]
  },
  {
   "cell_type": "markdown",
   "metadata": {},
   "source": [
    "Here it is hard to find the choose the model because one of them gave almost the same accuracy, especailly the tree base model."
   ]
  },
  {
   "cell_type": "markdown",
   "metadata": {},
   "source": [
    "So now I want to check what happen if we don't scale our data and don't use PCA"
   ]
  },
  {
   "cell_type": "code",
   "execution_count": 85,
   "metadata": {},
   "outputs": [],
   "source": [
    "X_train_new, X_test_new, y_train_new, y_test_new = train_test_split(X, y, test_size=0.2, random_state=42)"
   ]
  },
  {
   "cell_type": "code",
   "execution_count": 86,
   "metadata": {},
   "outputs": [
    {
     "name": "stdout",
     "output_type": "stream",
     "text": [
      "Training LogisticRegression...\n"
     ]
    },
    {
     "name": "stderr",
     "output_type": "stream",
     "text": [
      "c:\\Users\\ASUS\\anaconda3\\envs\\inf554\\Lib\\site-packages\\sklearn\\linear_model\\_logistic.py:1247: FutureWarning: 'multi_class' was deprecated in version 1.5 and will be removed in 1.7. From then on, it will always use 'multinomial'. Leave it to its default value to avoid this warning.\n",
      "  warnings.warn(\n",
      "c:\\Users\\ASUS\\anaconda3\\envs\\inf554\\Lib\\site-packages\\sklearn\\linear_model\\_logistic.py:469: ConvergenceWarning: lbfgs failed to converge (status=1):\n",
      "STOP: TOTAL NO. of ITERATIONS REACHED LIMIT.\n",
      "\n",
      "Increase the number of iterations (max_iter) or scale the data as shown in:\n",
      "    https://scikit-learn.org/stable/modules/preprocessing.html\n",
      "Please also refer to the documentation for alternative solver options:\n",
      "    https://scikit-learn.org/stable/modules/linear_model.html#logistic-regression\n",
      "  n_iter_i = _check_optimize_result(\n",
      "c:\\Users\\ASUS\\anaconda3\\envs\\inf554\\Lib\\site-packages\\sklearn\\linear_model\\_logistic.py:1247: FutureWarning: 'multi_class' was deprecated in version 1.5 and will be removed in 1.7. From then on, it will always use 'multinomial'. Leave it to its default value to avoid this warning.\n",
      "  warnings.warn(\n",
      "c:\\Users\\ASUS\\anaconda3\\envs\\inf554\\Lib\\site-packages\\sklearn\\linear_model\\_logistic.py:469: ConvergenceWarning: lbfgs failed to converge (status=1):\n",
      "STOP: TOTAL NO. of ITERATIONS REACHED LIMIT.\n",
      "\n",
      "Increase the number of iterations (max_iter) or scale the data as shown in:\n",
      "    https://scikit-learn.org/stable/modules/preprocessing.html\n",
      "Please also refer to the documentation for alternative solver options:\n",
      "    https://scikit-learn.org/stable/modules/linear_model.html#logistic-regression\n",
      "  n_iter_i = _check_optimize_result(\n",
      "c:\\Users\\ASUS\\anaconda3\\envs\\inf554\\Lib\\site-packages\\sklearn\\linear_model\\_logistic.py:1247: FutureWarning: 'multi_class' was deprecated in version 1.5 and will be removed in 1.7. From then on, it will always use 'multinomial'. Leave it to its default value to avoid this warning.\n",
      "  warnings.warn(\n",
      "c:\\Users\\ASUS\\anaconda3\\envs\\inf554\\Lib\\site-packages\\sklearn\\linear_model\\_logistic.py:469: ConvergenceWarning: lbfgs failed to converge (status=1):\n",
      "STOP: TOTAL NO. of ITERATIONS REACHED LIMIT.\n",
      "\n",
      "Increase the number of iterations (max_iter) or scale the data as shown in:\n",
      "    https://scikit-learn.org/stable/modules/preprocessing.html\n",
      "Please also refer to the documentation for alternative solver options:\n",
      "    https://scikit-learn.org/stable/modules/linear_model.html#logistic-regression\n",
      "  n_iter_i = _check_optimize_result(\n",
      "c:\\Users\\ASUS\\anaconda3\\envs\\inf554\\Lib\\site-packages\\sklearn\\linear_model\\_logistic.py:1247: FutureWarning: 'multi_class' was deprecated in version 1.5 and will be removed in 1.7. From then on, it will always use 'multinomial'. Leave it to its default value to avoid this warning.\n",
      "  warnings.warn(\n",
      "c:\\Users\\ASUS\\anaconda3\\envs\\inf554\\Lib\\site-packages\\sklearn\\linear_model\\_logistic.py:469: ConvergenceWarning: lbfgs failed to converge (status=1):\n",
      "STOP: TOTAL NO. of ITERATIONS REACHED LIMIT.\n",
      "\n",
      "Increase the number of iterations (max_iter) or scale the data as shown in:\n",
      "    https://scikit-learn.org/stable/modules/preprocessing.html\n",
      "Please also refer to the documentation for alternative solver options:\n",
      "    https://scikit-learn.org/stable/modules/linear_model.html#logistic-regression\n",
      "  n_iter_i = _check_optimize_result(\n",
      "c:\\Users\\ASUS\\anaconda3\\envs\\inf554\\Lib\\site-packages\\sklearn\\linear_model\\_logistic.py:1247: FutureWarning: 'multi_class' was deprecated in version 1.5 and will be removed in 1.7. From then on, it will always use 'multinomial'. Leave it to its default value to avoid this warning.\n",
      "  warnings.warn(\n",
      "c:\\Users\\ASUS\\anaconda3\\envs\\inf554\\Lib\\site-packages\\sklearn\\linear_model\\_logistic.py:469: ConvergenceWarning: lbfgs failed to converge (status=1):\n",
      "STOP: TOTAL NO. of ITERATIONS REACHED LIMIT.\n",
      "\n",
      "Increase the number of iterations (max_iter) or scale the data as shown in:\n",
      "    https://scikit-learn.org/stable/modules/preprocessing.html\n",
      "Please also refer to the documentation for alternative solver options:\n",
      "    https://scikit-learn.org/stable/modules/linear_model.html#logistic-regression\n",
      "  n_iter_i = _check_optimize_result(\n",
      "c:\\Users\\ASUS\\anaconda3\\envs\\inf554\\Lib\\site-packages\\sklearn\\linear_model\\_logistic.py:1247: FutureWarning: 'multi_class' was deprecated in version 1.5 and will be removed in 1.7. From then on, it will always use 'multinomial'. Leave it to its default value to avoid this warning.\n",
      "  warnings.warn(\n",
      "c:\\Users\\ASUS\\anaconda3\\envs\\inf554\\Lib\\site-packages\\sklearn\\linear_model\\_logistic.py:469: ConvergenceWarning: lbfgs failed to converge (status=1):\n",
      "STOP: TOTAL NO. of ITERATIONS REACHED LIMIT.\n",
      "\n",
      "Increase the number of iterations (max_iter) or scale the data as shown in:\n",
      "    https://scikit-learn.org/stable/modules/preprocessing.html\n",
      "Please also refer to the documentation for alternative solver options:\n",
      "    https://scikit-learn.org/stable/modules/linear_model.html#logistic-regression\n",
      "  n_iter_i = _check_optimize_result(\n"
     ]
    },
    {
     "name": "stdout",
     "output_type": "stream",
     "text": [
      "LogisticRegression - Training Accuracy: 0.642526455026455\n",
      "LogisticRegression - Test Accuracy: 0.6349206349206349\n",
      "LogisticRegression - Cross Validation Scores: [0.63512397 0.6300124  0.63331955 0.63869368 0.61430343]\n",
      "LogisticRegression - Cross Validation Mean Accuracy: 0.6302906057075699\n",
      "------------------------------------\n",
      "Training KNeighborsClassifier...\n",
      "KNeighborsClassifier - Training Accuracy: 0.8527612433862434\n",
      "KNeighborsClassifier - Test Accuracy: 0.7533068783068783\n",
      "KNeighborsClassifier - Cross Validation Scores: [0.73636364 0.74534932 0.7399752  0.74576271 0.73377429]\n",
      "KNeighborsClassifier - Cross Validation Mean Accuracy: 0.7402450298771093\n",
      "------------------------------------\n",
      "Training GaussianNB...\n",
      "GaussianNB - Training Accuracy: 0.5243882275132276\n",
      "GaussianNB - Test Accuracy: 0.5125661375661376\n",
      "GaussianNB - Cross Validation Scores: [0.52809917 0.51632906 0.52004961 0.51922282 0.53327821]\n",
      "GaussianNB - Cross Validation Mean Accuracy: 0.523395775182013\n",
      "------------------------------------\n",
      "Training SVC...\n",
      "SVC - Training Accuracy: 0.5607638888888888\n",
      "SVC - Test Accuracy: 0.558531746031746\n",
      "SVC - Cross Validation Scores: [0.54669421 0.534105   0.54030591 0.54526664 0.53823894]\n",
      "SVC - Cross Validation Mean Accuracy: 0.5409221418590429\n",
      "------------------------------------\n",
      "Training DecisionTreeClassifier...\n",
      "DecisionTreeClassifier - Training Accuracy: 1.0\n",
      "DecisionTreeClassifier - Test Accuracy: 0.7833994708994709\n",
      "DecisionTreeClassifier - Cross Validation Scores: [0.78966942 0.76312526 0.77635387 0.78958247 0.77056635]\n",
      "DecisionTreeClassifier - Cross Validation Mean Accuracy: 0.77785947338392\n",
      "------------------------------------\n",
      "Training RandomForestClassifier...\n",
      "RandomForestClassifier - Training Accuracy: 1.0\n",
      "RandomForestClassifier - Test Accuracy: 0.8687169312169312\n",
      "RandomForestClassifier - Cross Validation Scores: [0.85991736 0.85737908 0.85531211 0.85489872 0.84828442]\n",
      "RandomForestClassifier - Cross Validation Mean Accuracy: 0.8551583367213418\n",
      "------------------------------------\n",
      "Training ExtraTreesClassifier...\n",
      "ExtraTreesClassifier - Training Accuracy: 1.0\n",
      "ExtraTreesClassifier - Test Accuracy: 0.8918650793650794\n",
      "ExtraTreesClassifier - Cross Validation Scores: [0.87768595 0.87474163 0.87804878 0.87722199 0.8701943 ]\n",
      "ExtraTreesClassifier - Cross Validation Mean Accuracy: 0.8755785294790895\n",
      "------------------------------------\n",
      "Training GradientBoostingClassifier...\n",
      "GradientBoostingClassifier - Training Accuracy: 0.8856646825396826\n",
      "GradientBoostingClassifier - Test Accuracy: 0.8330026455026455\n",
      "GradientBoostingClassifier - Cross Validation Scores: [0.81900826 0.81769326 0.81314593 0.8222406  0.82513435]\n",
      "GradientBoostingClassifier - Cross Validation Mean Accuracy: 0.8194444805072788\n",
      "------------------------------------\n",
      "Training LGBMClassifier...\n",
      "[LightGBM] [Warning] Found whitespace in feature_names, replace with underlines\n",
      "[LightGBM] [Info] Auto-choosing col-wise multi-threading, the overhead of testing was 0.004612 seconds.\n",
      "You can set `force_col_wise=true` to remove the overhead.\n",
      "[LightGBM] [Info] Total Bins 35894\n",
      "[LightGBM] [Info] Number of data points in the train set: 12096, number of used features: 183\n",
      "[LightGBM] [Info] Start training from score -1.943021\n",
      "[LightGBM] [Info] Start training from score -1.964602\n",
      "[LightGBM] [Info] Start training from score -1.927561\n",
      "[LightGBM] [Info] Start training from score -1.948228\n",
      "[LightGBM] [Info] Start training from score -1.957552\n",
      "[LightGBM] [Info] Start training from score -1.936120\n",
      "[LightGBM] [Info] Start training from score -1.944753\n",
      "[LightGBM] [Warning] Found whitespace in feature_names, replace with underlines\n",
      "[LightGBM] [Info] Auto-choosing col-wise multi-threading, the overhead of testing was 0.003836 seconds.\n",
      "You can set `force_col_wise=true` to remove the overhead.\n",
      "[LightGBM] [Info] Total Bins 35814\n",
      "[LightGBM] [Info] Number of data points in the train set: 9676, number of used features: 182\n",
      "[LightGBM] [Info] Start training from score -1.943227\n",
      "[LightGBM] [Info] Start training from score -1.965109\n",
      "[LightGBM] [Info] Start training from score -1.927478\n",
      "[LightGBM] [Info] Start training from score -1.948290\n",
      "[LightGBM] [Info] Start training from score -1.957030\n",
      "[LightGBM] [Info] Start training from score -1.936038\n",
      "[LightGBM] [Info] Start training from score -1.944671\n",
      "[LightGBM] [Warning] Found whitespace in feature_names, replace with underlines\n",
      "[LightGBM] [Info] Auto-choosing col-wise multi-threading, the overhead of testing was 0.004106 seconds.\n",
      "You can set `force_col_wise=true` to remove the overhead.\n",
      "[LightGBM] [Info] Total Bins 35815\n",
      "[LightGBM] [Info] Number of data points in the train set: 9677, number of used features: 183\n",
      "[LightGBM] [Info] Start training from score -1.943330\n",
      "[LightGBM] [Info] Start training from score -1.964476\n",
      "[LightGBM] [Info] Start training from score -1.927582\n",
      "[LightGBM] [Info] Start training from score -1.948393\n",
      "[LightGBM] [Info] Start training from score -1.957133\n",
      "[LightGBM] [Info] Start training from score -1.936141\n",
      "[LightGBM] [Info] Start training from score -1.944774\n",
      "[LightGBM] [Warning] Found whitespace in feature_names, replace with underlines\n",
      "[LightGBM] [Info] Auto-choosing col-wise multi-threading, the overhead of testing was 0.004232 seconds.\n",
      "You can set `force_col_wise=true` to remove the overhead.\n",
      "[LightGBM] [Info] Total Bins 35790\n",
      "[LightGBM] [Info] Number of data points in the train set: 9677, number of used features: 181\n",
      "[LightGBM] [Info] Start training from score -1.942609\n",
      "[LightGBM] [Info] Start training from score -1.964476\n",
      "[LightGBM] [Info] Start training from score -1.927582\n",
      "[LightGBM] [Info] Start training from score -1.948393\n",
      "[LightGBM] [Info] Start training from score -1.957865\n",
      "[LightGBM] [Info] Start training from score -1.936141\n",
      "[LightGBM] [Info] Start training from score -1.944774\n",
      "[LightGBM] [Warning] Found whitespace in feature_names, replace with underlines\n",
      "[LightGBM] [Info] Auto-choosing col-wise multi-threading, the overhead of testing was 0.003852 seconds.\n",
      "You can set `force_col_wise=true` to remove the overhead.\n",
      "[LightGBM] [Info] Total Bins 35813\n",
      "[LightGBM] [Info] Number of data points in the train set: 9677, number of used features: 182\n",
      "[LightGBM] [Info] Start training from score -1.942609\n",
      "[LightGBM] [Info] Start training from score -1.964476\n",
      "[LightGBM] [Info] Start training from score -1.927582\n",
      "[LightGBM] [Info] Start training from score -1.948393\n",
      "[LightGBM] [Info] Start training from score -1.957865\n",
      "[LightGBM] [Info] Start training from score -1.936141\n",
      "[LightGBM] [Info] Start training from score -1.944774\n",
      "[LightGBM] [Warning] Found whitespace in feature_names, replace with underlines\n",
      "[LightGBM] [Info] Auto-choosing col-wise multi-threading, the overhead of testing was 0.004091 seconds.\n",
      "You can set `force_col_wise=true` to remove the overhead.\n",
      "[LightGBM] [Info] Total Bins 35832\n",
      "[LightGBM] [Info] Number of data points in the train set: 9677, number of used features: 183\n",
      "[LightGBM] [Info] Start training from score -1.943330\n",
      "[LightGBM] [Info] Start training from score -1.964476\n",
      "[LightGBM] [Info] Start training from score -1.927582\n",
      "[LightGBM] [Info] Start training from score -1.947668\n",
      "[LightGBM] [Info] Start training from score -1.957865\n",
      "[LightGBM] [Info] Start training from score -1.936141\n",
      "[LightGBM] [Info] Start training from score -1.944774\n",
      "LGBMClassifier - Training Accuracy: 0.9997519841269841\n",
      "LGBMClassifier - Test Accuracy: 0.8792989417989417\n",
      "LGBMClassifier - Cross Validation Scores: [0.86446281 0.85861926 0.85779248 0.86895411 0.85655229]\n",
      "LGBMClassifier - Cross Validation Mean Accuracy: 0.8612761915824789\n",
      "------------------------------------\n",
      "Training XGBClassifier...\n",
      "XGBClassifier - Training Accuracy: 0.999917328042328\n",
      "XGBClassifier - Test Accuracy: 0.8796296296296297\n",
      "XGBClassifier - Cross Validation Scores: [0.86115702 0.86647375 0.86523357 0.86151302 0.85159157]\n",
      "XGBClassifier - Cross Validation Mean Accuracy: 0.8611937861079129\n",
      "------------------------------------\n"
     ]
    }
   ],
   "source": [
    "results_non_scaled_data = train_test_all_model(X_train_new, y_train_new, X_test_new, y_test_new, 5)"
   ]
  },
  {
   "cell_type": "markdown",
   "metadata": {},
   "source": [
    "Now let compare the result of both case of dataset"
   ]
  },
  {
   "cell_type": "code",
   "execution_count": 88,
   "metadata": {},
   "outputs": [
    {
     "data": {
      "image/png": "[encoded data removed]",
      "text/plain": [
       "<Figure size 1000x600 with 1 Axes>"
      ]
     },
     "metadata": {},
     "output_type": "display_data"
    }
   ],
   "source": [
    "# Plot results of both scaled and non-scaled data\n",
    "def compare_results(results1, results2):\n",
    "    # Create DataFrames\n",
    "    df1 = pd.DataFrame(results1)\n",
    "    df1['data'] = 'scaled'\n",
    "    df2 = pd.DataFrame(results2)\n",
    "    df2['data'] = 'non-scaled'\n",
    "    df = pd.concat([df1, df2])\n",
    "\n",
    "    # Plot\n",
    "    plt.figure(figsize=(10, 6))\n",
    "    sns.barplot(data=df, x='cv_mean_accuracy', y='model', hue='data')\n",
    "    plt.xlabel('Accuracy')\n",
    "    plt.title('Cross Validation Mean Accuracy of Models')\n",
    "    plt.show()\n",
    "\n",
    "compare_results(results_scaled_data_pca, results_non_scaled_data)"
   ]
  },
  {
   "cell_type": "markdown",
   "metadata": {},
   "source": [
    "### Result\n",
    "\n",
    "Based on the results, we observe that some models perform better with the non-scaled dataset than with the scaled dataset, even when combined with dimensionality reduction using PCA. However, we also see that the **ExtraTreesClassifier** consistently delivers the highest accuracy among all the models tested.\n",
    "\n",
    "The reasons are as follows:\n",
    "\n",
    "1. **Scaling-Sensitive Models:**\n",
    "   - **Logistic Regression, KNN, and SVM** are sensitive to data scaling because:\n",
    "     - **KNN** relies on distance metrics (e.g., Euclidean distance), where features with larger scales can dominate.\n",
    "     - **Logistic Regression** and **SVM** use optimization techniques that perform better when features are scaled uniformly. \n",
    "   - Scaling ensures that all features contribute equally during training, which improves the performance of these models.\n",
    "\n",
    "2. **Tree-Based Models:**\n",
    "   - The other models used (e.g., **Random Forest, Extra Trees, Gradient Boosting, LightGBM, XGBoost**) are based on decision tree algorithms. \n",
    "   - **Tree-based models** are inherently scale-invariant because splitting criteria depend only on the relative order of feature values. As a result, the feature magnitudes or ranges do not affect their performance.\n",
    "\n",
    "3. **Gaussian Naive Bayes:**\n",
    "   - **Gaussian Naive Bayes** computes probabilities assuming feature independence and uses a Gaussian distribution for calculations. Feature scaling has little or no impact on its performance, as it does not rely on feature magnitudes or distances.\n"
   ]
  },
  {
   "cell_type": "markdown",
   "metadata": {},
   "source": [
    "> **Model Choice**:\n",
    ">\n",
    "> We will choose ExtraTreeClassifier as our final model and we will improve it by doing explore more on data preprocessing and perform hyperparameter tunning."
   ]
  },
  {
   "cell_type": "markdown",
   "metadata": {},
   "source": [
    "## Perform Hyperparameeter Tuning on the best model"
   ]
  },
  {
   "cell_type": "markdown",
   "metadata": {},
   "source": [
    "Most methods in tree-based models come with default parameters. However, these defaults are not necessarily optimal. While a model with default parameters may perform well on the training set, it might be too complex or lead to overfitting when applied to the overall dataset. To mitigate or avoid overfitting, hyperparameter tuning is essential. Moreover, it is one of the easiest ways to achieve a well-optimized set of hyperparameters.\n",
    "\n",
    "There are two common methods for hyperparameter tuning: **RandomizedSearchCV** and **GridSearchCV**.\n",
    "\n",
    "In this case, I chose to use **GridSearchCV** because the **ExtraTreesClassifier** has good performance in terms of execution time, allowing me to train all combinations of parameters efficiently.\n"
   ]
  },
  {
   "cell_type": "code",
   "execution_count": null,
   "metadata": {},
   "outputs": [
    {
     "name": "stdout",
     "output_type": "stream",
     "text": [
      "Fitting 5 folds for each of 300 candidates, totalling 1500 fits\n"
     ]
    },
    {
     "ename": "KeyboardInterrupt",
     "evalue": "",
     "output_type": "error",
     "traceback": [
      "\u001b[1;31m---------------------------------------------------------------------------\u001b[0m",
      "\u001b[1;31mKeyboardInterrupt\u001b[0m                         Traceback (most recent call last)",
      "Cell \u001b[1;32mIn[111], line 12\u001b[0m\n\u001b[0;32m      9\u001b[0m best_model \u001b[38;5;241m=\u001b[39m ExtraTreesClassifier()\n\u001b[0;32m     10\u001b[0m grid_search \u001b[38;5;241m=\u001b[39m GridSearchCV(best_model, param_grid \u001b[38;5;241m=\u001b[39m para_grid, cv \u001b[38;5;241m=\u001b[39m \u001b[38;5;241m5\u001b[39m, scoring \u001b[38;5;241m=\u001b[39m \u001b[38;5;124m'\u001b[39m\u001b[38;5;124maccuracy\u001b[39m\u001b[38;5;124m'\u001b[39m, verbose \u001b[38;5;241m=\u001b[39m \u001b[38;5;241m1\u001b[39m,\n\u001b[0;32m     11\u001b[0m                                n_jobs \u001b[38;5;241m=\u001b[39m \u001b[38;5;241m-\u001b[39m\u001b[38;5;241m1\u001b[39m, return_train_score \u001b[38;5;241m=\u001b[39m \u001b[38;5;28;01mTrue\u001b[39;00m)\n\u001b[1;32m---> 12\u001b[0m \u001b[43mgrid_search\u001b[49m\u001b[38;5;241;43m.\u001b[39;49m\u001b[43mfit\u001b[49m\u001b[43m(\u001b[49m\u001b[43mX_train_new\u001b[49m\u001b[43m,\u001b[49m\u001b[43m \u001b[49m\u001b[43my_train_new\u001b[49m\u001b[43m)\u001b[49m\n",
      "File \u001b[1;32mc:\\Users\\ASUS\\anaconda3\\envs\\inf554\\Lib\\site-packages\\sklearn\\base.py:1473\u001b[0m, in \u001b[0;36m_fit_context.<locals>.decorator.<locals>.wrapper\u001b[1;34m(estimator, *args, **kwargs)\u001b[0m\n\u001b[0;32m   1466\u001b[0m     estimator\u001b[38;5;241m.\u001b[39m_validate_params()\n\u001b[0;32m   1468\u001b[0m \u001b[38;5;28;01mwith\u001b[39;00m config_context(\n\u001b[0;32m   1469\u001b[0m     skip_parameter_validation\u001b[38;5;241m=\u001b[39m(\n\u001b[0;32m   1470\u001b[0m         prefer_skip_nested_validation \u001b[38;5;129;01mor\u001b[39;00m global_skip_validation\n\u001b[0;32m   1471\u001b[0m     )\n\u001b[0;32m   1472\u001b[0m ):\n\u001b[1;32m-> 1473\u001b[0m     \u001b[38;5;28;01mreturn\u001b[39;00m \u001b[43mfit_method\u001b[49m\u001b[43m(\u001b[49m\u001b[43mestimator\u001b[49m\u001b[43m,\u001b[49m\u001b[43m \u001b[49m\u001b[38;5;241;43m*\u001b[39;49m\u001b[43margs\u001b[49m\u001b[43m,\u001b[49m\u001b[43m \u001b[49m\u001b[38;5;241;43m*\u001b[39;49m\u001b[38;5;241;43m*\u001b[39;49m\u001b[43mkwargs\u001b[49m\u001b[43m)\u001b[49m\n",
      "File \u001b[1;32mc:\\Users\\ASUS\\anaconda3\\envs\\inf554\\Lib\\site-packages\\sklearn\\model_selection\\_search.py:1018\u001b[0m, in \u001b[0;36mBaseSearchCV.fit\u001b[1;34m(self, X, y, **params)\u001b[0m\n\u001b[0;32m   1012\u001b[0m     results \u001b[38;5;241m=\u001b[39m \u001b[38;5;28mself\u001b[39m\u001b[38;5;241m.\u001b[39m_format_results(\n\u001b[0;32m   1013\u001b[0m         all_candidate_params, n_splits, all_out, all_more_results\n\u001b[0;32m   1014\u001b[0m     )\n\u001b[0;32m   1016\u001b[0m     \u001b[38;5;28;01mreturn\u001b[39;00m results\n\u001b[1;32m-> 1018\u001b[0m \u001b[38;5;28;43mself\u001b[39;49m\u001b[38;5;241;43m.\u001b[39;49m\u001b[43m_run_search\u001b[49m\u001b[43m(\u001b[49m\u001b[43mevaluate_candidates\u001b[49m\u001b[43m)\u001b[49m\n\u001b[0;32m   1020\u001b[0m \u001b[38;5;66;03m# multimetric is determined here because in the case of a callable\u001b[39;00m\n\u001b[0;32m   1021\u001b[0m \u001b[38;5;66;03m# self.scoring the return type is only known after calling\u001b[39;00m\n\u001b[0;32m   1022\u001b[0m first_test_score \u001b[38;5;241m=\u001b[39m all_out[\u001b[38;5;241m0\u001b[39m][\u001b[38;5;124m\"\u001b[39m\u001b[38;5;124mtest_scores\u001b[39m\u001b[38;5;124m\"\u001b[39m]\n",
      "File \u001b[1;32mc:\\Users\\ASUS\\anaconda3\\envs\\inf554\\Lib\\site-packages\\sklearn\\model_selection\\_search.py:1572\u001b[0m, in \u001b[0;36mGridSearchCV._run_search\u001b[1;34m(self, evaluate_candidates)\u001b[0m\n\u001b[0;32m   1570\u001b[0m \u001b[38;5;28;01mdef\u001b[39;00m \u001b[38;5;21m_run_search\u001b[39m(\u001b[38;5;28mself\u001b[39m, evaluate_candidates):\n\u001b[0;32m   1571\u001b[0m \u001b[38;5;250m    \u001b[39m\u001b[38;5;124;03m\"\"\"Search all candidates in param_grid\"\"\"\u001b[39;00m\n\u001b[1;32m-> 1572\u001b[0m     \u001b[43mevaluate_candidates\u001b[49m\u001b[43m(\u001b[49m\u001b[43mParameterGrid\u001b[49m\u001b[43m(\u001b[49m\u001b[38;5;28;43mself\u001b[39;49m\u001b[38;5;241;43m.\u001b[39;49m\u001b[43mparam_grid\u001b[49m\u001b[43m)\u001b[49m\u001b[43m)\u001b[49m\n",
      "File \u001b[1;32mc:\\Users\\ASUS\\anaconda3\\envs\\inf554\\Lib\\site-packages\\sklearn\\model_selection\\_search.py:964\u001b[0m, in \u001b[0;36mBaseSearchCV.fit.<locals>.evaluate_candidates\u001b[1;34m(candidate_params, cv, more_results)\u001b[0m\n\u001b[0;32m    956\u001b[0m \u001b[38;5;28;01mif\u001b[39;00m \u001b[38;5;28mself\u001b[39m\u001b[38;5;241m.\u001b[39mverbose \u001b[38;5;241m>\u001b[39m \u001b[38;5;241m0\u001b[39m:\n\u001b[0;32m    957\u001b[0m     \u001b[38;5;28mprint\u001b[39m(\n\u001b[0;32m    958\u001b[0m         \u001b[38;5;124m\"\u001b[39m\u001b[38;5;124mFitting \u001b[39m\u001b[38;5;132;01m{0}\u001b[39;00m\u001b[38;5;124m folds for each of \u001b[39m\u001b[38;5;132;01m{1}\u001b[39;00m\u001b[38;5;124m candidates,\u001b[39m\u001b[38;5;124m\"\u001b[39m\n\u001b[0;32m    959\u001b[0m         \u001b[38;5;124m\"\u001b[39m\u001b[38;5;124m totalling \u001b[39m\u001b[38;5;132;01m{2}\u001b[39;00m\u001b[38;5;124m fits\u001b[39m\u001b[38;5;124m\"\u001b[39m\u001b[38;5;241m.\u001b[39mformat(\n\u001b[0;32m    960\u001b[0m             n_splits, n_candidates, n_candidates \u001b[38;5;241m*\u001b[39m n_splits\n\u001b[0;32m    961\u001b[0m         )\n\u001b[0;32m    962\u001b[0m     )\n\u001b[1;32m--> 964\u001b[0m out \u001b[38;5;241m=\u001b[39m \u001b[43mparallel\u001b[49m\u001b[43m(\u001b[49m\n\u001b[0;32m    965\u001b[0m \u001b[43m    \u001b[49m\u001b[43mdelayed\u001b[49m\u001b[43m(\u001b[49m\u001b[43m_fit_and_score\u001b[49m\u001b[43m)\u001b[49m\u001b[43m(\u001b[49m\n\u001b[0;32m    966\u001b[0m \u001b[43m        \u001b[49m\u001b[43mclone\u001b[49m\u001b[43m(\u001b[49m\u001b[43mbase_estimator\u001b[49m\u001b[43m)\u001b[49m\u001b[43m,\u001b[49m\n\u001b[0;32m    967\u001b[0m \u001b[43m        \u001b[49m\u001b[43mX\u001b[49m\u001b[43m,\u001b[49m\n\u001b[0;32m    968\u001b[0m \u001b[43m        \u001b[49m\u001b[43my\u001b[49m\u001b[43m,\u001b[49m\n\u001b[0;32m    969\u001b[0m \u001b[43m        \u001b[49m\u001b[43mtrain\u001b[49m\u001b[38;5;241;43m=\u001b[39;49m\u001b[43mtrain\u001b[49m\u001b[43m,\u001b[49m\n\u001b[0;32m    970\u001b[0m \u001b[43m        \u001b[49m\u001b[43mtest\u001b[49m\u001b[38;5;241;43m=\u001b[39;49m\u001b[43mtest\u001b[49m\u001b[43m,\u001b[49m\n\u001b[0;32m    971\u001b[0m \u001b[43m        \u001b[49m\u001b[43mparameters\u001b[49m\u001b[38;5;241;43m=\u001b[39;49m\u001b[43mparameters\u001b[49m\u001b[43m,\u001b[49m\n\u001b[0;32m    972\u001b[0m \u001b[43m        \u001b[49m\u001b[43msplit_progress\u001b[49m\u001b[38;5;241;43m=\u001b[39;49m\u001b[43m(\u001b[49m\u001b[43msplit_idx\u001b[49m\u001b[43m,\u001b[49m\u001b[43m \u001b[49m\u001b[43mn_splits\u001b[49m\u001b[43m)\u001b[49m\u001b[43m,\u001b[49m\n\u001b[0;32m    973\u001b[0m \u001b[43m        \u001b[49m\u001b[43mcandidate_progress\u001b[49m\u001b[38;5;241;43m=\u001b[39;49m\u001b[43m(\u001b[49m\u001b[43mcand_idx\u001b[49m\u001b[43m,\u001b[49m\u001b[43m \u001b[49m\u001b[43mn_candidates\u001b[49m\u001b[43m)\u001b[49m\u001b[43m,\u001b[49m\n\u001b[0;32m    974\u001b[0m \u001b[43m        \u001b[49m\u001b[38;5;241;43m*\u001b[39;49m\u001b[38;5;241;43m*\u001b[39;49m\u001b[43mfit_and_score_kwargs\u001b[49m\u001b[43m,\u001b[49m\n\u001b[0;32m    975\u001b[0m \u001b[43m    \u001b[49m\u001b[43m)\u001b[49m\n\u001b[0;32m    976\u001b[0m \u001b[43m    \u001b[49m\u001b[38;5;28;43;01mfor\u001b[39;49;00m\u001b[43m \u001b[49m\u001b[43m(\u001b[49m\u001b[43mcand_idx\u001b[49m\u001b[43m,\u001b[49m\u001b[43m \u001b[49m\u001b[43mparameters\u001b[49m\u001b[43m)\u001b[49m\u001b[43m,\u001b[49m\u001b[43m \u001b[49m\u001b[43m(\u001b[49m\u001b[43msplit_idx\u001b[49m\u001b[43m,\u001b[49m\u001b[43m \u001b[49m\u001b[43m(\u001b[49m\u001b[43mtrain\u001b[49m\u001b[43m,\u001b[49m\u001b[43m \u001b[49m\u001b[43mtest\u001b[49m\u001b[43m)\u001b[49m\u001b[43m)\u001b[49m\u001b[43m \u001b[49m\u001b[38;5;129;43;01min\u001b[39;49;00m\u001b[43m \u001b[49m\u001b[43mproduct\u001b[49m\u001b[43m(\u001b[49m\n\u001b[0;32m    977\u001b[0m \u001b[43m        \u001b[49m\u001b[38;5;28;43menumerate\u001b[39;49m\u001b[43m(\u001b[49m\u001b[43mcandidate_params\u001b[49m\u001b[43m)\u001b[49m\u001b[43m,\u001b[49m\n\u001b[0;32m    978\u001b[0m \u001b[43m        \u001b[49m\u001b[38;5;28;43menumerate\u001b[39;49m\u001b[43m(\u001b[49m\u001b[43mcv\u001b[49m\u001b[38;5;241;43m.\u001b[39;49m\u001b[43msplit\u001b[49m\u001b[43m(\u001b[49m\u001b[43mX\u001b[49m\u001b[43m,\u001b[49m\u001b[43m \u001b[49m\u001b[43my\u001b[49m\u001b[43m,\u001b[49m\u001b[43m \u001b[49m\u001b[38;5;241;43m*\u001b[39;49m\u001b[38;5;241;43m*\u001b[39;49m\u001b[43mrouted_params\u001b[49m\u001b[38;5;241;43m.\u001b[39;49m\u001b[43msplitter\u001b[49m\u001b[38;5;241;43m.\u001b[39;49m\u001b[43msplit\u001b[49m\u001b[43m)\u001b[49m\u001b[43m)\u001b[49m\u001b[43m,\u001b[49m\n\u001b[0;32m    979\u001b[0m \u001b[43m    \u001b[49m\u001b[43m)\u001b[49m\n\u001b[0;32m    980\u001b[0m \u001b[43m\u001b[49m\u001b[43m)\u001b[49m\n\u001b[0;32m    982\u001b[0m \u001b[38;5;28;01mif\u001b[39;00m \u001b[38;5;28mlen\u001b[39m(out) \u001b[38;5;241m<\u001b[39m \u001b[38;5;241m1\u001b[39m:\n\u001b[0;32m    983\u001b[0m     \u001b[38;5;28;01mraise\u001b[39;00m \u001b[38;5;167;01mValueError\u001b[39;00m(\n\u001b[0;32m    984\u001b[0m         \u001b[38;5;124m\"\u001b[39m\u001b[38;5;124mNo fits were performed. \u001b[39m\u001b[38;5;124m\"\u001b[39m\n\u001b[0;32m    985\u001b[0m         \u001b[38;5;124m\"\u001b[39m\u001b[38;5;124mWas the CV iterator empty? \u001b[39m\u001b[38;5;124m\"\u001b[39m\n\u001b[0;32m    986\u001b[0m         \u001b[38;5;124m\"\u001b[39m\u001b[38;5;124mWere there no candidates?\u001b[39m\u001b[38;5;124m\"\u001b[39m\n\u001b[0;32m    987\u001b[0m     )\n",
      "File \u001b[1;32mc:\\Users\\ASUS\\anaconda3\\envs\\inf554\\Lib\\site-packages\\sklearn\\utils\\parallel.py:74\u001b[0m, in \u001b[0;36mParallel.__call__\u001b[1;34m(self, iterable)\u001b[0m\n\u001b[0;32m     69\u001b[0m config \u001b[38;5;241m=\u001b[39m get_config()\n\u001b[0;32m     70\u001b[0m iterable_with_config \u001b[38;5;241m=\u001b[39m (\n\u001b[0;32m     71\u001b[0m     (_with_config(delayed_func, config), args, kwargs)\n\u001b[0;32m     72\u001b[0m     \u001b[38;5;28;01mfor\u001b[39;00m delayed_func, args, kwargs \u001b[38;5;129;01min\u001b[39;00m iterable\n\u001b[0;32m     73\u001b[0m )\n\u001b[1;32m---> 74\u001b[0m \u001b[38;5;28;01mreturn\u001b[39;00m \u001b[38;5;28;43msuper\u001b[39;49m\u001b[43m(\u001b[49m\u001b[43m)\u001b[49m\u001b[38;5;241;43m.\u001b[39;49m\u001b[38;5;21;43m__call__\u001b[39;49m\u001b[43m(\u001b[49m\u001b[43miterable_with_config\u001b[49m\u001b[43m)\u001b[49m\n",
      "File \u001b[1;32mc:\\Users\\ASUS\\anaconda3\\envs\\inf554\\Lib\\site-packages\\joblib\\parallel.py:2007\u001b[0m, in \u001b[0;36mParallel.__call__\u001b[1;34m(self, iterable)\u001b[0m\n\u001b[0;32m   2001\u001b[0m \u001b[38;5;66;03m# The first item from the output is blank, but it makes the interpreter\u001b[39;00m\n\u001b[0;32m   2002\u001b[0m \u001b[38;5;66;03m# progress until it enters the Try/Except block of the generator and\u001b[39;00m\n\u001b[0;32m   2003\u001b[0m \u001b[38;5;66;03m# reaches the first `yield` statement. This starts the asynchronous\u001b[39;00m\n\u001b[0;32m   2004\u001b[0m \u001b[38;5;66;03m# dispatch of the tasks to the workers.\u001b[39;00m\n\u001b[0;32m   2005\u001b[0m \u001b[38;5;28mnext\u001b[39m(output)\n\u001b[1;32m-> 2007\u001b[0m \u001b[38;5;28;01mreturn\u001b[39;00m output \u001b[38;5;28;01mif\u001b[39;00m \u001b[38;5;28mself\u001b[39m\u001b[38;5;241m.\u001b[39mreturn_generator \u001b[38;5;28;01melse\u001b[39;00m \u001b[38;5;28mlist\u001b[39m(output)\n",
      "File \u001b[1;32mc:\\Users\\ASUS\\anaconda3\\envs\\inf554\\Lib\\site-packages\\joblib\\parallel.py:1650\u001b[0m, in \u001b[0;36mParallel._get_outputs\u001b[1;34m(self, iterator, pre_dispatch)\u001b[0m\n\u001b[0;32m   1647\u001b[0m     \u001b[38;5;28;01myield\u001b[39;00m\n\u001b[0;32m   1649\u001b[0m     \u001b[38;5;28;01mwith\u001b[39;00m \u001b[38;5;28mself\u001b[39m\u001b[38;5;241m.\u001b[39m_backend\u001b[38;5;241m.\u001b[39mretrieval_context():\n\u001b[1;32m-> 1650\u001b[0m         \u001b[38;5;28;01myield from\u001b[39;00m \u001b[38;5;28mself\u001b[39m\u001b[38;5;241m.\u001b[39m_retrieve()\n\u001b[0;32m   1652\u001b[0m \u001b[38;5;28;01mexcept\u001b[39;00m \u001b[38;5;167;01mGeneratorExit\u001b[39;00m:\n\u001b[0;32m   1653\u001b[0m     \u001b[38;5;66;03m# The generator has been garbage collected before being fully\u001b[39;00m\n\u001b[0;32m   1654\u001b[0m     \u001b[38;5;66;03m# consumed. This aborts the remaining tasks if possible and warn\u001b[39;00m\n\u001b[0;32m   1655\u001b[0m     \u001b[38;5;66;03m# the user if necessary.\u001b[39;00m\n\u001b[0;32m   1656\u001b[0m     \u001b[38;5;28mself\u001b[39m\u001b[38;5;241m.\u001b[39m_exception \u001b[38;5;241m=\u001b[39m \u001b[38;5;28;01mTrue\u001b[39;00m\n",
      "File \u001b[1;32mc:\\Users\\ASUS\\anaconda3\\envs\\inf554\\Lib\\site-packages\\joblib\\parallel.py:1762\u001b[0m, in \u001b[0;36mParallel._retrieve\u001b[1;34m(self)\u001b[0m\n\u001b[0;32m   1757\u001b[0m \u001b[38;5;66;03m# If the next job is not ready for retrieval yet, we just wait for\u001b[39;00m\n\u001b[0;32m   1758\u001b[0m \u001b[38;5;66;03m# async callbacks to progress.\u001b[39;00m\n\u001b[0;32m   1759\u001b[0m \u001b[38;5;28;01mif\u001b[39;00m ((\u001b[38;5;28mlen\u001b[39m(\u001b[38;5;28mself\u001b[39m\u001b[38;5;241m.\u001b[39m_jobs) \u001b[38;5;241m==\u001b[39m \u001b[38;5;241m0\u001b[39m) \u001b[38;5;129;01mor\u001b[39;00m\n\u001b[0;32m   1760\u001b[0m     (\u001b[38;5;28mself\u001b[39m\u001b[38;5;241m.\u001b[39m_jobs[\u001b[38;5;241m0\u001b[39m]\u001b[38;5;241m.\u001b[39mget_status(\n\u001b[0;32m   1761\u001b[0m         timeout\u001b[38;5;241m=\u001b[39m\u001b[38;5;28mself\u001b[39m\u001b[38;5;241m.\u001b[39mtimeout) \u001b[38;5;241m==\u001b[39m TASK_PENDING)):\n\u001b[1;32m-> 1762\u001b[0m     time\u001b[38;5;241m.\u001b[39msleep(\u001b[38;5;241m0.01\u001b[39m)\n\u001b[0;32m   1763\u001b[0m     \u001b[38;5;28;01mcontinue\u001b[39;00m\n\u001b[0;32m   1765\u001b[0m \u001b[38;5;66;03m# We need to be careful: the job list can be filling up as\u001b[39;00m\n\u001b[0;32m   1766\u001b[0m \u001b[38;5;66;03m# we empty it and Python list are not thread-safe by\u001b[39;00m\n\u001b[0;32m   1767\u001b[0m \u001b[38;5;66;03m# default hence the use of the lock\u001b[39;00m\n",
      "\u001b[1;31mKeyboardInterrupt\u001b[0m: "
     ]
    }
   ],
   "source": [
    "# from sklearn.model_selection import GridSearchCV\n",
    "# para_grid = {\n",
    "#     'n_estimators': [100, 300, 500],\n",
    "#     'max_depth': [None,10, 20, 30, ],\t\n",
    "#     'min_samples_split': [2, 3, 5, 7, 9],\n",
    "#     'min_samples_leaf': [1, 2, 4, 6, 8]\n",
    "# }\n",
    "\n",
    "# best_model = ExtraTreesClassifier()\n",
    "# grid_search = GridSearchCV(best_model, param_grid = para_grid, cv = 5, scoring = 'accuracy', verbose = 1,\n",
    "#                                n_jobs = -1, return_train_score = True)\n",
    "# grid_search.fit(X_train_new, y_train_new)"
   ]
  },
  {
   "cell_type": "code",
   "execution_count": null,
   "metadata": {},
   "outputs": [
    {
     "name": "stdout",
     "output_type": "stream",
     "text": [
      "{'max_depth': None, 'min_samples_leaf': 1, 'min_samples_split': 3, 'n_estimators': 300}\n"
     ]
    }
   ],
   "source": [
    "best_params = grid_search.best_params_\n",
    "# best_params = {'max_depth': None, 'min_samples_leaf': 1, 'min_samples_split': 2, 'n_estimators': 500}\n",
    "print(best_params)"
   ]
  },
  {
   "cell_type": "markdown",
   "metadata": {},
   "source": [
    "Now train and test our model with `best_params`"
   ]
  },
  {
   "cell_type": "code",
   "execution_count": 103,
   "metadata": {},
   "outputs": [
    {
     "name": "stdout",
     "output_type": "stream",
     "text": [
      "Training data accuracy: 1.0\n",
      "Testing data accuracy: 0.892526455026455\n",
      "Cross Validation: [0.89153439 0.89186508 0.88921958 0.88227513 0.89550265]\n",
      "Cross Validation Mean: 0.890079365079365\n"
     ]
    }
   ],
   "source": [
    "best_model_final = ExtraTreesClassifier(**best_params)\n",
    "y_test_pred, model_train = train_evaluation_model(X_train_new, y_train_new, X_test_new, y_test_new, 5, best_model_final)"
   ]
  },
  {
   "cell_type": "code",
   "execution_count": 118,
   "metadata": {},
   "outputs": [
    {
     "name": "stdout",
     "output_type": "stream",
     "text": [
      "Training data accuracy: 0.8856646825396826\n",
      "Testing data accuracy: 0.8336640211640212\n",
      "Cross Validation: [0.82638889 0.82043651 0.83068783 0.82308201 0.83796296]\n",
      "Cross Validation Mean: 0.8277116402116402\n"
     ]
    }
   ],
   "source": [
    "best_model_final = GradientBoostingClassifier()\n",
    "y_test_pred, model_train = train_evaluation_model(X_train_new, y_train_new, X_test_new, y_test_new, 5, best_model_final)"
   ]
  },
  {
   "cell_type": "markdown",
   "metadata": {},
   "source": [
    "Contruct a confusion matrix"
   ]
  },
  {
   "cell_type": "code",
   "execution_count": 119,
   "metadata": {},
   "outputs": [
    {
     "name": "stdout",
     "output_type": "stream",
     "text": [
      "              precision    recall  f1-score   support\n",
      "\n",
      "           1       0.74      0.76      0.75       427\n",
      "           2       0.79      0.61      0.69       464\n",
      "           3       0.81      0.81      0.81       400\n",
      "           4       0.94      0.97      0.96       436\n",
      "           5       0.82      0.92      0.87       452\n",
      "           6       0.80      0.82      0.81       415\n",
      "           7       0.93      0.95      0.94       430\n",
      "\n",
      "    accuracy                           0.83      3024\n",
      "   macro avg       0.83      0.83      0.83      3024\n",
      "weighted avg       0.83      0.83      0.83      3024\n",
      "\n"
     ]
    },
    {
     "data": {
      "text/plain": [
       "array([[325,  60,   0,   0,  16,   0,  26],\n",
       "       [ 93, 283,  10,   0,  59,  13,   6],\n",
       "       [  0,   1, 326,  13,   7,  53,   0],\n",
       "       [  0,   0,   5, 423,   0,   8,   0],\n",
       "       [  1,  13,  11,   0, 417,  10,   0],\n",
       "       [  0,   3,  51,  12,  10, 339,   0],\n",
       "       [ 20,   0,   0,   0,   2,   0, 408]], dtype=int64)"
      ]
     },
     "execution_count": 119,
     "metadata": {},
     "output_type": "execute_result"
    }
   ],
   "source": [
    "# confusion matrix and classification report\n",
    "from sklearn.metrics import confusion_matrix, classification_report\n",
    "\n",
    "print(classification_report(y_test_new, y_test_pred))\n",
    "confusion_matrix(y_test_new, y_test_pred)\n"
   ]
  },
  {
   "cell_type": "markdown",
   "metadata": {},
   "source": [
    "## Evaluation model with the test dataset"
   ]
  },
  {
   "cell_type": "code",
   "execution_count": 120,
   "metadata": {},
   "outputs": [
    {
     "name": "stdout",
     "output_type": "stream",
     "text": [
      "[<Feature: Elevation>, <Feature: Aspect>, <Feature: Slope>, <Feature: Horizontal_Distance_To_Hydrology>, <Feature: Vertical_Distance_To_Hydrology>, <Feature: Horizontal_Distance_To_Roadways>, <Feature: Hillshade_9am>, <Feature: Hillshade_Noon>, <Feature: Hillshade_3pm>, <Feature: Horizontal_Distance_To_Fire_Points>, <Feature: Aspect + Elevation>, <Feature: Aspect + Hillshade_3pm>, <Feature: Aspect + Hillshade_9am>, <Feature: Aspect + Hillshade_Noon>, <Feature: Aspect + Horizontal_Distance_To_Fire_Points>, <Feature: Aspect + Horizontal_Distance_To_Hydrology>, <Feature: Aspect + Horizontal_Distance_To_Roadways>, <Feature: Aspect + Slope>, <Feature: Aspect + Vertical_Distance_To_Hydrology>, <Feature: Elevation + Hillshade_3pm>, <Feature: Elevation + Hillshade_9am>, <Feature: Elevation + Hillshade_Noon>, <Feature: Elevation + Horizontal_Distance_To_Fire_Points>, <Feature: Elevation + Horizontal_Distance_To_Hydrology>, <Feature: Elevation + Horizontal_Distance_To_Roadways>, <Feature: Elevation + Slope>, <Feature: Elevation + Vertical_Distance_To_Hydrology>, <Feature: Hillshade_3pm + Hillshade_9am>, <Feature: Hillshade_3pm + Hillshade_Noon>, <Feature: Hillshade_3pm + Horizontal_Distance_To_Fire_Points>, <Feature: Hillshade_3pm + Horizontal_Distance_To_Hydrology>, <Feature: Hillshade_3pm + Horizontal_Distance_To_Roadways>, <Feature: Hillshade_3pm + Slope>, <Feature: Hillshade_3pm + Vertical_Distance_To_Hydrology>, <Feature: Hillshade_9am + Hillshade_Noon>, <Feature: Hillshade_9am + Horizontal_Distance_To_Fire_Points>, <Feature: Hillshade_9am + Horizontal_Distance_To_Hydrology>, <Feature: Hillshade_9am + Horizontal_Distance_To_Roadways>, <Feature: Hillshade_9am + Slope>, <Feature: Hillshade_9am + Vertical_Distance_To_Hydrology>, <Feature: Hillshade_Noon + Horizontal_Distance_To_Fire_Points>, <Feature: Hillshade_Noon + Horizontal_Distance_To_Hydrology>, <Feature: Hillshade_Noon + Horizontal_Distance_To_Roadways>, <Feature: Hillshade_Noon + Slope>, <Feature: Hillshade_Noon + Vertical_Distance_To_Hydrology>, <Feature: Horizontal_Distance_To_Fire_Points + Horizontal_Distance_To_Hydrology>, <Feature: Horizontal_Distance_To_Fire_Points + Horizontal_Distance_To_Roadways>, <Feature: Horizontal_Distance_To_Fire_Points + Slope>, <Feature: Horizontal_Distance_To_Fire_Points + Vertical_Distance_To_Hydrology>, <Feature: Horizontal_Distance_To_Hydrology + Horizontal_Distance_To_Roadways>, <Feature: Horizontal_Distance_To_Hydrology + Slope>, <Feature: Horizontal_Distance_To_Hydrology + Vertical_Distance_To_Hydrology>, <Feature: Horizontal_Distance_To_Roadways + Slope>, <Feature: Horizontal_Distance_To_Roadways + Vertical_Distance_To_Hydrology>, <Feature: Slope + Vertical_Distance_To_Hydrology>, <Feature: Aspect * Elevation>, <Feature: Aspect * Hillshade_3pm>, <Feature: Aspect * Hillshade_9am>, <Feature: Aspect * Hillshade_Noon>, <Feature: Aspect * Horizontal_Distance_To_Fire_Points>, <Feature: Aspect * Horizontal_Distance_To_Hydrology>, <Feature: Aspect * Horizontal_Distance_To_Roadways>, <Feature: Aspect * Slope>, <Feature: Aspect * Vertical_Distance_To_Hydrology>, <Feature: Elevation * Hillshade_3pm>, <Feature: Elevation * Hillshade_9am>, <Feature: Elevation * Hillshade_Noon>, <Feature: Elevation * Horizontal_Distance_To_Fire_Points>, <Feature: Elevation * Horizontal_Distance_To_Hydrology>, <Feature: Elevation * Horizontal_Distance_To_Roadways>, <Feature: Elevation * Slope>, <Feature: Elevation * Vertical_Distance_To_Hydrology>, <Feature: Hillshade_3pm * Hillshade_9am>, <Feature: Hillshade_3pm * Hillshade_Noon>, <Feature: Hillshade_3pm * Horizontal_Distance_To_Fire_Points>, <Feature: Hillshade_3pm * Horizontal_Distance_To_Hydrology>, <Feature: Hillshade_3pm * Horizontal_Distance_To_Roadways>, <Feature: Hillshade_3pm * Slope>, <Feature: Hillshade_3pm * Vertical_Distance_To_Hydrology>, <Feature: Hillshade_9am * Hillshade_Noon>, <Feature: Hillshade_9am * Horizontal_Distance_To_Fire_Points>, <Feature: Hillshade_9am * Horizontal_Distance_To_Hydrology>, <Feature: Hillshade_9am * Horizontal_Distance_To_Roadways>, <Feature: Hillshade_9am * Slope>, <Feature: Hillshade_9am * Vertical_Distance_To_Hydrology>, <Feature: Hillshade_Noon * Horizontal_Distance_To_Fire_Points>, <Feature: Hillshade_Noon * Horizontal_Distance_To_Hydrology>, <Feature: Hillshade_Noon * Horizontal_Distance_To_Roadways>, <Feature: Hillshade_Noon * Slope>, <Feature: Hillshade_Noon * Vertical_Distance_To_Hydrology>, <Feature: Horizontal_Distance_To_Fire_Points * Horizontal_Distance_To_Hydrology>, <Feature: Horizontal_Distance_To_Fire_Points * Horizontal_Distance_To_Roadways>, <Feature: Horizontal_Distance_To_Fire_Points * Slope>, <Feature: Horizontal_Distance_To_Fire_Points * Vertical_Distance_To_Hydrology>, <Feature: Horizontal_Distance_To_Hydrology * Horizontal_Distance_To_Roadways>, <Feature: Horizontal_Distance_To_Hydrology * Slope>, <Feature: Horizontal_Distance_To_Hydrology * Vertical_Distance_To_Hydrology>, <Feature: Horizontal_Distance_To_Roadways * Slope>, <Feature: Horizontal_Distance_To_Roadways * Vertical_Distance_To_Hydrology>, <Feature: Slope * Vertical_Distance_To_Hydrology>, <Feature: Aspect - Elevation>, <Feature: Aspect - Hillshade_3pm>, <Feature: Aspect - Hillshade_9am>, <Feature: Aspect - Hillshade_Noon>, <Feature: Aspect - Horizontal_Distance_To_Fire_Points>, <Feature: Aspect - Horizontal_Distance_To_Hydrology>, <Feature: Aspect - Horizontal_Distance_To_Roadways>, <Feature: Aspect - Slope>, <Feature: Aspect - Vertical_Distance_To_Hydrology>, <Feature: Elevation - Hillshade_3pm>, <Feature: Elevation - Hillshade_9am>, <Feature: Elevation - Hillshade_Noon>, <Feature: Elevation - Horizontal_Distance_To_Fire_Points>, <Feature: Elevation - Horizontal_Distance_To_Hydrology>, <Feature: Elevation - Horizontal_Distance_To_Roadways>, <Feature: Elevation - Slope>, <Feature: Elevation - Vertical_Distance_To_Hydrology>, <Feature: Hillshade_3pm - Hillshade_9am>, <Feature: Hillshade_3pm - Hillshade_Noon>, <Feature: Hillshade_3pm - Horizontal_Distance_To_Fire_Points>, <Feature: Hillshade_3pm - Horizontal_Distance_To_Hydrology>, <Feature: Hillshade_3pm - Horizontal_Distance_To_Roadways>, <Feature: Hillshade_3pm - Slope>, <Feature: Hillshade_3pm - Vertical_Distance_To_Hydrology>, <Feature: Hillshade_9am - Hillshade_Noon>, <Feature: Hillshade_9am - Horizontal_Distance_To_Fire_Points>, <Feature: Hillshade_9am - Horizontal_Distance_To_Hydrology>, <Feature: Hillshade_9am - Horizontal_Distance_To_Roadways>, <Feature: Hillshade_9am - Slope>, <Feature: Hillshade_9am - Vertical_Distance_To_Hydrology>, <Feature: Hillshade_Noon - Horizontal_Distance_To_Fire_Points>, <Feature: Hillshade_Noon - Horizontal_Distance_To_Hydrology>, <Feature: Hillshade_Noon - Horizontal_Distance_To_Roadways>, <Feature: Hillshade_Noon - Slope>, <Feature: Hillshade_Noon - Vertical_Distance_To_Hydrology>, <Feature: Horizontal_Distance_To_Fire_Points - Horizontal_Distance_To_Hydrology>, <Feature: Horizontal_Distance_To_Fire_Points - Horizontal_Distance_To_Roadways>, <Feature: Horizontal_Distance_To_Fire_Points - Slope>, <Feature: Horizontal_Distance_To_Fire_Points - Vertical_Distance_To_Hydrology>, <Feature: Horizontal_Distance_To_Hydrology - Horizontal_Distance_To_Roadways>, <Feature: Horizontal_Distance_To_Hydrology - Slope>, <Feature: Horizontal_Distance_To_Hydrology - Vertical_Distance_To_Hydrology>, <Feature: Horizontal_Distance_To_Roadways - Slope>, <Feature: Horizontal_Distance_To_Roadways - Vertical_Distance_To_Hydrology>, <Feature: Slope - Vertical_Distance_To_Hydrology>]\n"
     ]
    }
   ],
   "source": [
    "X_test_data_0 = pd.read_csv(\"forest-3-a-2024/test-full.csv\")\n",
    "X_test_data = X_test_data_0.drop('Id', axis=1)\n",
    "X_test_data = continuous_features_extraction(X_test_data)\n",
    "X_test_data = categorical_encoding(X_test_data)\n",
    "X_test_data = climatical_zone(X_test_data)\n",
    "X_test_data = geologic_zone(X_test_data)\n",
    "X_test_data = surface_cover(X_test_data)\n",
    "X_test_data = rock_type(X_test_data)\n"
   ]
  },
  {
   "cell_type": "code",
   "execution_count": 121,
   "metadata": {},
   "outputs": [
    {
     "name": "stdout",
     "output_type": "stream",
     "text": [
      "(581012, 193)\n"
     ]
    }
   ],
   "source": [
    "print(X_test_data.shape)\n"
   ]
  },
  {
   "cell_type": "code",
   "execution_count": 122,
   "metadata": {},
   "outputs": [],
   "source": [
    "Y_test_full_pred = model_train.predict(X_test_data)"
   ]
  },
  {
   "cell_type": "code",
   "execution_count": 123,
   "metadata": {},
   "outputs": [],
   "source": [
    "import csv\n",
    "y_pred = [int(value) if value >= 0 else 0 for value in Y_test_full_pred]\n",
    "# Dump the results into a file that follows the required Kaggle template\n",
    "with open(\"submit.csv\", 'w') as f:\n",
    "    writer = csv.writer(f)\n",
    "    writer.writerow([\"Id\", \"Cover_Type\"])\n",
    "    for index, prediction in enumerate(y_pred):\n",
    "        writer.writerow([str(X_test_data_0['Id'].iloc[index]) , str(int(prediction))])"
   ]
  },
  {
   "cell_type": "code",
   "execution_count": null,
   "metadata": {},
   "outputs": [],
   "source": []
  },
  {
   "cell_type": "code",
   "execution_count": null,
   "metadata": {},
   "outputs": [],
   "source": []
  }
 ],
 "metadata": {
  "kernelspec": {
   "display_name": "inf554",
   "language": "python",
   "name": "python3"
  },
  "language_info": {
   "codemirror_mode": {
    "name": "ipython",
    "version": 3
   },
   "file_extension": ".py",
   "mimetype": "text/x-python",
   "name": "python",
   "nbconvert_exporter": "python",
   "pygments_lexer": "ipython3",
   "version": "3.11.9"
  }
 },
 "nbformat": 4,
 "nbformat_minor": 2
}
