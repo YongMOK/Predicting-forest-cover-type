{
 "cells": [
  {
   "cell_type": "code",
   "execution_count": 1,
   "metadata": {},
   "outputs": [],
   "source": [
    "import numpy as np\n",
    "import pandas as pd\n",
    "import sklearn as sk\n",
    "import matplotlib.pyplot as plt\n",
    "import seaborn as sns\n",
    "from sklearn.preprocessing import StandardScaler\n",
    "from sklearn.decomposition import PCA\n",
    "from sklearn.model_selection import cross_val_score\n"
   ]
  },
  {
   "cell_type": "markdown",
   "metadata": {},
   "source": [
    "## Loading the data"
   ]
  },
  {
   "cell_type": "code",
   "execution_count": 2,
   "metadata": {},
   "outputs": [],
   "source": [
    "train_data = pd.read_csv(\"forest-3-a-2024/train.csv\")\n"
   ]
  },
  {
   "cell_type": "code",
   "execution_count": 3,
   "metadata": {},
   "outputs": [
    {
     "data": {
      "text/plain": [
       "(15120, 56)"
      ]
     },
     "execution_count": 3,
     "metadata": {},
     "output_type": "execute_result"
    }
   ],
   "source": [
    "train_data.shape"
   ]
  },
  {
   "cell_type": "code",
   "execution_count": 4,
   "metadata": {},
   "outputs": [],
   "source": [
    "# train_data.head()"
   ]
  },
  {
   "cell_type": "code",
   "execution_count": 5,
   "metadata": {},
   "outputs": [],
   "source": [
    "# train_data.iloc[:,40:50].describe()"
   ]
  },
  {
   "cell_type": "code",
   "execution_count": 6,
   "metadata": {},
   "outputs": [],
   "source": [
    "#train_data.isnull().sum()"
   ]
  },
  {
   "cell_type": "code",
   "execution_count": 7,
   "metadata": {},
   "outputs": [
    {
     "name": "stdout",
     "output_type": "stream",
     "text": [
      "Columns with string values: Index([], dtype='object')\n"
     ]
    }
   ],
   "source": [
    "#check for string type columns\n",
    "string_columns = train_data.select_dtypes(include=['object']).columns\n",
    "print(\"Columns with string values:\", string_columns)\n"
   ]
  },
  {
   "cell_type": "code",
   "execution_count": 8,
   "metadata": {},
   "outputs": [],
   "source": [
    "data = train_data.drop('Id', axis=1)"
   ]
  },
  {
   "cell_type": "code",
   "execution_count": 9,
   "metadata": {},
   "outputs": [],
   "source": [
    "# fine the coorilation between the features\n",
    "# corelation_matrix = train_data.corr()\n",
    "# # draw the heatmap\n",
    "# heatmap = sns.heatmap(corelation_matrix, annot=True)\n",
    "# plt.show()\n",
    "# print(corelation_matrix)"
   ]
  },
  {
   "cell_type": "markdown",
   "metadata": {},
   "source": [
    "## Feature Engineering And Selection"
   ]
  },
  {
   "cell_type": "code",
   "execution_count": 10,
   "metadata": {},
   "outputs": [],
   "source": [
    "import featuretools as ft"
   ]
  },
  {
   "cell_type": "markdown",
   "metadata": {},
   "source": [
    "### 1. Grouping feature"
   ]
  },
  {
   "cell_type": "code",
   "execution_count": 11,
   "metadata": {},
   "outputs": [],
   "source": [
    "# Group of Wilderness_Area\n",
    "wilderness_area = train_data.loc[:,'Wilderness_Area1':'Wilderness_Area4']\n",
    "#print(wilderness_area)\n",
    "\n",
    "# Group of Soil_Type\n",
    "soil_type = train_data.loc[:,'Soil_Type1':'Soil_Type40']\n",
    "#print(soil_type)\n",
    "\n",
    "# Group of Continuous Features\n",
    "continuous_features = train_data.loc[:,'Elevation':'Horizontal_Distance_To_Fire_Points']"
   ]
  },
  {
   "cell_type": "markdown",
   "metadata": {},
   "source": [
    "#### 1.1 Analysis the corelation between wilderness Area and covertype"
   ]
  },
  {
   "cell_type": "code",
   "execution_count": 12,
   "metadata": {},
   "outputs": [],
   "source": [
    "# corr_matrix = wilderness_area.corr()\n",
    "# print(corr_matrix)\n",
    "# heatmap = sns.heatmap(corr_matrix, annot=True)\n",
    "# plt.show()"
   ]
  },
  {
   "cell_type": "markdown",
   "metadata": {},
   "source": [
    "### 2. Continue variable feature engineering"
   ]
  },
  {
   "cell_type": "markdown",
   "metadata": {},
   "source": [
    "Now, we extract the feature from the continue variable by adding the new feature such summation between two feature, substraction between two feature and multiplication between two feature."
   ]
  },
  {
   "cell_type": "code",
   "execution_count": 13,
   "metadata": {},
   "outputs": [],
   "source": [
    "\n",
    "def continuous_features_extraction(X):\n",
    "    # Create EntitySet\n",
    "    es = ft.EntitySet(id='Cover_Type')\n",
    "\n",
    "    # Add the input DataFrame as an entity\n",
    "    es = es.add_dataframe(\n",
    "        dataframe_name='X',\n",
    "        dataframe=X.iloc[:, :10],  # Corrected from oloc to iloc\n",
    "        make_index=True,\n",
    "        index='Index'  # Corrected typo 'Idex' to 'Index'\n",
    "    )\n",
    "\n",
    "    # Run deep feature synthesis with transformation primitives\n",
    "    new_features, feature_defs = ft.dfs(\n",
    "        entityset=es,\n",
    "        target_dataframe_name='X',\n",
    "        trans_primitives=['add_numeric', 'multiply_numeric', 'subtract_numeric'],\n",
    "        max_depth=1\n",
    "    )\n",
    "    print(feature_defs)\n",
    "\n",
    "    # Combine the new features with the original DataFrame\n",
    "    updated_X = pd.concat([X, new_features], axis=1)\n",
    "    # Removing duplicate columns by comparing columns in the original dataframe with new_features\n",
    "    duplicates = updated_X.columns.duplicated(keep='first')\n",
    "    updated_X = updated_X.loc[:, ~duplicates]\n",
    "\n",
    "    return updated_X\n"
   ]
  },
  {
   "cell_type": "code",
   "execution_count": 14,
   "metadata": {},
   "outputs": [
    {
     "name": "stdout",
     "output_type": "stream",
     "text": [
      "[<Feature: Elevation>, <Feature: Aspect>, <Feature: Slope>, <Feature: Horizontal_Distance_To_Hydrology>, <Feature: Vertical_Distance_To_Hydrology>, <Feature: Horizontal_Distance_To_Roadways>, <Feature: Hillshade_9am>, <Feature: Hillshade_Noon>, <Feature: Hillshade_3pm>, <Feature: Horizontal_Distance_To_Fire_Points>, <Feature: Aspect + Elevation>, <Feature: Aspect + Hillshade_3pm>, <Feature: Aspect + Hillshade_9am>, <Feature: Aspect + Hillshade_Noon>, <Feature: Aspect + Horizontal_Distance_To_Fire_Points>, <Feature: Aspect + Horizontal_Distance_To_Hydrology>, <Feature: Aspect + Horizontal_Distance_To_Roadways>, <Feature: Aspect + Slope>, <Feature: Aspect + Vertical_Distance_To_Hydrology>, <Feature: Elevation + Hillshade_3pm>, <Feature: Elevation + Hillshade_9am>, <Feature: Elevation + Hillshade_Noon>, <Feature: Elevation + Horizontal_Distance_To_Fire_Points>, <Feature: Elevation + Horizontal_Distance_To_Hydrology>, <Feature: Elevation + Horizontal_Distance_To_Roadways>, <Feature: Elevation + Slope>, <Feature: Elevation + Vertical_Distance_To_Hydrology>, <Feature: Hillshade_3pm + Hillshade_9am>, <Feature: Hillshade_3pm + Hillshade_Noon>, <Feature: Hillshade_3pm + Horizontal_Distance_To_Fire_Points>, <Feature: Hillshade_3pm + Horizontal_Distance_To_Hydrology>, <Feature: Hillshade_3pm + Horizontal_Distance_To_Roadways>, <Feature: Hillshade_3pm + Slope>, <Feature: Hillshade_3pm + Vertical_Distance_To_Hydrology>, <Feature: Hillshade_9am + Hillshade_Noon>, <Feature: Hillshade_9am + Horizontal_Distance_To_Fire_Points>, <Feature: Hillshade_9am + Horizontal_Distance_To_Hydrology>, <Feature: Hillshade_9am + Horizontal_Distance_To_Roadways>, <Feature: Hillshade_9am + Slope>, <Feature: Hillshade_9am + Vertical_Distance_To_Hydrology>, <Feature: Hillshade_Noon + Horizontal_Distance_To_Fire_Points>, <Feature: Hillshade_Noon + Horizontal_Distance_To_Hydrology>, <Feature: Hillshade_Noon + Horizontal_Distance_To_Roadways>, <Feature: Hillshade_Noon + Slope>, <Feature: Hillshade_Noon + Vertical_Distance_To_Hydrology>, <Feature: Horizontal_Distance_To_Fire_Points + Horizontal_Distance_To_Hydrology>, <Feature: Horizontal_Distance_To_Fire_Points + Horizontal_Distance_To_Roadways>, <Feature: Horizontal_Distance_To_Fire_Points + Slope>, <Feature: Horizontal_Distance_To_Fire_Points + Vertical_Distance_To_Hydrology>, <Feature: Horizontal_Distance_To_Hydrology + Horizontal_Distance_To_Roadways>, <Feature: Horizontal_Distance_To_Hydrology + Slope>, <Feature: Horizontal_Distance_To_Hydrology + Vertical_Distance_To_Hydrology>, <Feature: Horizontal_Distance_To_Roadways + Slope>, <Feature: Horizontal_Distance_To_Roadways + Vertical_Distance_To_Hydrology>, <Feature: Slope + Vertical_Distance_To_Hydrology>, <Feature: Aspect * Elevation>, <Feature: Aspect * Hillshade_3pm>, <Feature: Aspect * Hillshade_9am>, <Feature: Aspect * Hillshade_Noon>, <Feature: Aspect * Horizontal_Distance_To_Fire_Points>, <Feature: Aspect * Horizontal_Distance_To_Hydrology>, <Feature: Aspect * Horizontal_Distance_To_Roadways>, <Feature: Aspect * Slope>, <Feature: Aspect * Vertical_Distance_To_Hydrology>, <Feature: Elevation * Hillshade_3pm>, <Feature: Elevation * Hillshade_9am>, <Feature: Elevation * Hillshade_Noon>, <Feature: Elevation * Horizontal_Distance_To_Fire_Points>, <Feature: Elevation * Horizontal_Distance_To_Hydrology>, <Feature: Elevation * Horizontal_Distance_To_Roadways>, <Feature: Elevation * Slope>, <Feature: Elevation * Vertical_Distance_To_Hydrology>, <Feature: Hillshade_3pm * Hillshade_9am>, <Feature: Hillshade_3pm * Hillshade_Noon>, <Feature: Hillshade_3pm * Horizontal_Distance_To_Fire_Points>, <Feature: Hillshade_3pm * Horizontal_Distance_To_Hydrology>, <Feature: Hillshade_3pm * Horizontal_Distance_To_Roadways>, <Feature: Hillshade_3pm * Slope>, <Feature: Hillshade_3pm * Vertical_Distance_To_Hydrology>, <Feature: Hillshade_9am * Hillshade_Noon>, <Feature: Hillshade_9am * Horizontal_Distance_To_Fire_Points>, <Feature: Hillshade_9am * Horizontal_Distance_To_Hydrology>, <Feature: Hillshade_9am * Horizontal_Distance_To_Roadways>, <Feature: Hillshade_9am * Slope>, <Feature: Hillshade_9am * Vertical_Distance_To_Hydrology>, <Feature: Hillshade_Noon * Horizontal_Distance_To_Fire_Points>, <Feature: Hillshade_Noon * Horizontal_Distance_To_Hydrology>, <Feature: Hillshade_Noon * Horizontal_Distance_To_Roadways>, <Feature: Hillshade_Noon * Slope>, <Feature: Hillshade_Noon * Vertical_Distance_To_Hydrology>, <Feature: Horizontal_Distance_To_Fire_Points * Horizontal_Distance_To_Hydrology>, <Feature: Horizontal_Distance_To_Fire_Points * Horizontal_Distance_To_Roadways>, <Feature: Horizontal_Distance_To_Fire_Points * Slope>, <Feature: Horizontal_Distance_To_Fire_Points * Vertical_Distance_To_Hydrology>, <Feature: Horizontal_Distance_To_Hydrology * Horizontal_Distance_To_Roadways>, <Feature: Horizontal_Distance_To_Hydrology * Slope>, <Feature: Horizontal_Distance_To_Hydrology * Vertical_Distance_To_Hydrology>, <Feature: Horizontal_Distance_To_Roadways * Slope>, <Feature: Horizontal_Distance_To_Roadways * Vertical_Distance_To_Hydrology>, <Feature: Slope * Vertical_Distance_To_Hydrology>, <Feature: Aspect - Elevation>, <Feature: Aspect - Hillshade_3pm>, <Feature: Aspect - Hillshade_9am>, <Feature: Aspect - Hillshade_Noon>, <Feature: Aspect - Horizontal_Distance_To_Fire_Points>, <Feature: Aspect - Horizontal_Distance_To_Hydrology>, <Feature: Aspect - Horizontal_Distance_To_Roadways>, <Feature: Aspect - Slope>, <Feature: Aspect - Vertical_Distance_To_Hydrology>, <Feature: Elevation - Hillshade_3pm>, <Feature: Elevation - Hillshade_9am>, <Feature: Elevation - Hillshade_Noon>, <Feature: Elevation - Horizontal_Distance_To_Fire_Points>, <Feature: Elevation - Horizontal_Distance_To_Hydrology>, <Feature: Elevation - Horizontal_Distance_To_Roadways>, <Feature: Elevation - Slope>, <Feature: Elevation - Vertical_Distance_To_Hydrology>, <Feature: Hillshade_3pm - Hillshade_9am>, <Feature: Hillshade_3pm - Hillshade_Noon>, <Feature: Hillshade_3pm - Horizontal_Distance_To_Fire_Points>, <Feature: Hillshade_3pm - Horizontal_Distance_To_Hydrology>, <Feature: Hillshade_3pm - Horizontal_Distance_To_Roadways>, <Feature: Hillshade_3pm - Slope>, <Feature: Hillshade_3pm - Vertical_Distance_To_Hydrology>, <Feature: Hillshade_9am - Hillshade_Noon>, <Feature: Hillshade_9am - Horizontal_Distance_To_Fire_Points>, <Feature: Hillshade_9am - Horizontal_Distance_To_Hydrology>, <Feature: Hillshade_9am - Horizontal_Distance_To_Roadways>, <Feature: Hillshade_9am - Slope>, <Feature: Hillshade_9am - Vertical_Distance_To_Hydrology>, <Feature: Hillshade_Noon - Horizontal_Distance_To_Fire_Points>, <Feature: Hillshade_Noon - Horizontal_Distance_To_Hydrology>, <Feature: Hillshade_Noon - Horizontal_Distance_To_Roadways>, <Feature: Hillshade_Noon - Slope>, <Feature: Hillshade_Noon - Vertical_Distance_To_Hydrology>, <Feature: Horizontal_Distance_To_Fire_Points - Horizontal_Distance_To_Hydrology>, <Feature: Horizontal_Distance_To_Fire_Points - Horizontal_Distance_To_Roadways>, <Feature: Horizontal_Distance_To_Fire_Points - Slope>, <Feature: Horizontal_Distance_To_Fire_Points - Vertical_Distance_To_Hydrology>, <Feature: Horizontal_Distance_To_Hydrology - Horizontal_Distance_To_Roadways>, <Feature: Horizontal_Distance_To_Hydrology - Slope>, <Feature: Horizontal_Distance_To_Hydrology - Vertical_Distance_To_Hydrology>, <Feature: Horizontal_Distance_To_Roadways - Slope>, <Feature: Horizontal_Distance_To_Roadways - Vertical_Distance_To_Hydrology>, <Feature: Slope - Vertical_Distance_To_Hydrology>]\n"
     ]
    }
   ],
   "source": [
    "data = continuous_features_extraction(data)"
   ]
  },
  {
   "cell_type": "markdown",
   "metadata": {},
   "source": [
    "### 2. Categorical Encoding"
   ]
  },
  {
   "cell_type": "markdown",
   "metadata": {},
   "source": [
    "Soil Types: 1 to 40 : based on the USFS Ecological Landtype Units (ELUs) for this study area, where the ELU is comprised of four digits:\n",
    "\n",
    "   1) First digit: climatic zone\n",
    "   \n",
    "   2) Second digit: geologic zones\n",
    "   \n",
    "So here, intuitively we can extract two new features from the soil_type  which are:\n",
    "\n",
    "   - 'climatic zone'\n",
    "   \n",
    "   - 'geologic zone' "
   ]
  },
  {
   "cell_type": "code",
   "execution_count": 15,
   "metadata": {},
   "outputs": [],
   "source": [
    "# Mapping soil type to ELU code\n",
    "ELU_CODE = {\n",
    "    1:2702,2:2703,3:2704,4:2705,5:2706,6:2717,7:3501,8:3502,9:4201,\n",
    "    10:4703,11:4704,12:4744,13:4758,14:5101,15:5151,16:6101,17:6102,\n",
    "    18:6731,19:7101,20:7102,21:7103,22:7201,23:7202,24:7700,25:7701,\n",
    "    26:7702,27:7709,28:7710,29:7745,30:7746,31:7755,32:7756,33:7757,\n",
    "    34:7790,35:8703,36:8707,37:8708,38:8771,39:8772,40:8776\n",
    "}"
   ]
  },
  {
   "cell_type": "markdown",
   "metadata": {},
   "source": [
    "To improve one the performence of model in the classical midel like tree-based model, it works better without one-hot encodind, so we extract soil type by reverse one-hot encoding.We will enventually drop the original soil type columns which has the added effect of significantly reducing the total number of feature."
   ]
  },
  {
   "cell_type": "code",
   "execution_count": 16,
   "metadata": {},
   "outputs": [],
   "source": [
    "def categorical_encoding(data):\n",
    "    data = data.copy()\n",
    "    data['Soil_Type'] = 0\n",
    "    for i in range(1, 41):\n",
    "        data['Soil_Type'] += i * data['Soil_Type' + str(i)]\n",
    "    return data"
   ]
  },
  {
   "cell_type": "code",
   "execution_count": 17,
   "metadata": {},
   "outputs": [],
   "source": [
    "data = categorical_encoding(data)"
   ]
  },
  {
   "cell_type": "markdown",
   "metadata": {},
   "source": [
    "### 3. Climatic Zone"
   ]
  },
  {
   "cell_type": "markdown",
   "metadata": {},
   "source": [
    "We now create a feature based on the climatic zone of the soil. To reach this, we determine the climatic zon by the first digit of the ELU code. The climatic zone determined by a natural ordering as follow:\n",
    "\n",
    "1. lower montane dry\n",
    "2. lower montane\n",
    "3. montane dry\n",
    "4. montane\n",
    "5. montane dry and montane\n",
    "6. montane and subalpine\n",
    "7. subalpine\n",
    "8. alpine"
   ]
  },
  {
   "cell_type": "code",
   "execution_count": 18,
   "metadata": {},
   "outputs": [],
   "source": [
    "def climatical_zone(df):\n",
    "    df = df.copy()\n",
    "    df['Climatic_Zone'] = df['Soil_Type'].apply(lambda x: int(str(ELU_CODE[x])[0]))\n",
    "    return df"
   ]
  },
  {
   "cell_type": "code",
   "execution_count": 19,
   "metadata": {},
   "outputs": [],
   "source": [
    "data = climatical_zone(data)"
   ]
  },
  {
   "cell_type": "markdown",
   "metadata": {},
   "source": [
    "### 4. Geologic Zone"
   ]
  },
  {
   "cell_type": "markdown",
   "metadata": {},
   "source": [
    "Now the we extract a new feaature call geological_zone from the soil type, determined by the second digit in the ELU code. Here is the natural order of geologic zone:\n",
    "\n",
    "1. alluvium\n",
    "2. glacial\n",
    "3. shale\n",
    "4. sandstone\n",
    "5. mixed sedimentary\n",
    "6. unspecified in the USFS ELU Survey\n",
    "7. igneous and metamorphic\n",
    "8. volcanic"
   ]
  },
  {
   "cell_type": "code",
   "execution_count": 20,
   "metadata": {},
   "outputs": [],
   "source": [
    "def geologic_zone(df):\n",
    "    df = df.copy()\n",
    "    df['Geologic_Zone'] = df['Soil_Type'].apply(lambda x: int(str(ELU_CODE[x])[1]))\n",
    "    return df"
   ]
  },
  {
   "cell_type": "code",
   "execution_count": 21,
   "metadata": {},
   "outputs": [],
   "source": [
    "data = climatical_zone(data)"
   ]
  },
  {
   "cell_type": "markdown",
   "metadata": {},
   "source": [
    "### 5. Surface cover"
   ]
  },
  {
   "cell_type": "markdown",
   "metadata": {},
   "source": [
    "We can also extract the surface cover from the ELUs code because on top of the ELUs code, each soil_type has their description. For example, 1: ELU 2702, Cathedral family - Rock outcrop complex, extremely stony. We can see that it gives information about the type of surface that cover that area:\n",
    "\n",
    "1. stony\n",
    "2. very stony\n",
    "3. extremely stony\n",
    "4. rubbly\n",
    "5. no_description (no_desc)\n"
   ]
  },
  {
   "cell_type": "code",
   "execution_count": 22,
   "metadata": {},
   "outputs": [],
   "source": [
    "def surface_cover(data):\n",
    "    # from ELU code from the soil type\n",
    "    no_desc = [7,8,14,15,16,17,19,20,21,23,35]\n",
    "    stony = [6,12]\n",
    "    very_stony = [2,9,18,26]\n",
    "    extremely_stony = [1,22,24,25,27,28,29,30,31,32,33,34,36,37,38,39,40]\n",
    "    rubbly = [3,4,5,10,11,13]\n",
    "    \n",
    "    # Create dictionary to your the type of surface\n",
    "    surface_cover = {i:0 for i in no_desc}\n",
    "    surface_cover.update({i:1 for i in stony})\n",
    "    surface_cover.update({i:2 for i in very_stony})\n",
    "    surface_cover.update({i:3 for i in extremely_stony})\n",
    "    surface_cover.update({i:4 for i in rubbly})\n",
    "    \n",
    "    # Create Feature\n",
    "    df = data.copy()\n",
    "    df['Surface_Cover'] = data['Soil_Type'].apply(\n",
    "        lambda x: surface_cover[x]\n",
    "    )\n",
    "    return df"
   ]
  },
  {
   "cell_type": "code",
   "execution_count": 23,
   "metadata": {},
   "outputs": [],
   "source": [
    "data = surface_cover(data)"
   ]
  },
  {
   "cell_type": "markdown",
   "metadata": {},
   "source": [
    "On top of surface cover, we can also extract the type of rock by combining the last two components of the description of 'soil_type'."
   ]
  },
  {
   "cell_type": "code",
   "execution_count": 24,
   "metadata": {},
   "outputs": [],
   "source": [
    "def rock_type(data):\n",
    "    # Group IDs\n",
    "    no_desc = [7,8,14,15,16,17,19,20,21,23,35]\n",
    "    stones = [1,2,6,9,12,18,24,25,26,27,28,29,30,31,32,33,34,36,37,38,39,40]\n",
    "    boulders = [22]\n",
    "    rubble = [3,4,5,10,11,13]\n",
    "\n",
    "    # Create dictionary\n",
    "    rock_size = {i:0 for i in no_desc}\n",
    "    rock_size.update({i:1 for i in stones})\n",
    "    rock_size.update({i:2 for i in boulders})\n",
    "    rock_size.update({i:3 for i in rubble})\n",
    "    \n",
    "    df = data.copy()\n",
    "    df['Rock_Size'] = df['Soil_Type'].apply(\n",
    "        lambda x: rock_size[x]\n",
    "    )\n",
    "    return data"
   ]
  },
  {
   "cell_type": "code",
   "execution_count": 25,
   "metadata": {},
   "outputs": [],
   "source": [
    "data = rock_type(data)"
   ]
  },
  {
   "cell_type": "markdown",
   "metadata": {},
   "source": [
    "**Wilderness Areas:**\n",
    "\n",
    "   1) Rawah Wilderness Area\n",
    "\n",
    "   2) Neota Wilderness Area\n",
    "\n",
    "   3) Comanche Peak Wilderness Area\n",
    "    \n",
    "   4) Cache la Poudre Wilderness Area\n",
    "\n",
    "   So, by doing linear combination between 'Wilderness_Area' and 'Climatic_Zone','Rock_Size','Surface_Cover', we can get new features that can possibly capture non-linear relatinships between features and the target variable."
   ]
  },
  {
   "cell_type": "code",
   "execution_count": 26,
   "metadata": {},
   "outputs": [],
   "source": [
    "def non_linear_relationship(data):\n",
    "    df = data.copy()\n",
    "    #  New Feature\n",
    "    df['Climate_Area1'] = df['Wilderness_Area1']*df['Climatic_Zone'] \n",
    "    df['Climate_Area2'] = df['Wilderness_Area2']*df['Climatic_Zone'] \n",
    "    df['Climate_Area3'] = df['Wilderness_Area3']*df['Climatic_Zone'] \n",
    "    df['Climate_Area4'] = df['Wilderness_Area4']*df['Climatic_Zone'] \n",
    "    df['Rock_Area1'] = df['Wilderness_Area1']*df['Rock_Size']\n",
    "    df['Rock_Area2'] = df['Wilderness_Area2']*df['Rock_Size']    \n",
    "    df['Rock_Area3'] = df['Wilderness_Area3']*df['Rock_Size']  \n",
    "    df['Rock_Area4'] = df['Wilderness_Area4']*df['Rock_Size']    \n",
    "    df['Surface_Area1'] = df['Wilderness_Area1']*df['Surface_Cover'] \n",
    "    df['Surface_Area2'] = df['Wilderness_Area2']*df['Surface_Cover'] \n",
    "    df['Surface_Area3'] = df['Wilderness_Area3']*df['Surface_Cover'] \n",
    "    df['Surface_Area4'] = df['Wilderness_Area4']*df['Surface_Cover'] \n",
    "    \n",
    "    return df"
   ]
  },
  {
   "cell_type": "code",
   "execution_count": 27,
   "metadata": {},
   "outputs": [],
   "source": [
    "#data = non_linear_relationship(data)"
   ]
  },
  {
   "cell_type": "markdown",
   "metadata": {},
   "source": [
    "## Dimensional Reduction"
   ]
  },
  {
   "cell_type": "code",
   "execution_count": 28,
   "metadata": {},
   "outputs": [],
   "source": [
    "# Selecting the features\n",
    "X = data.drop('Cover_Type', axis=1)\n",
    "\n",
    "# Create a standard scaler\n",
    "scaler = StandardScaler()\n",
    "\n",
    "# Fit the scaler to the features and transform\n",
    "X_scale = scaler.fit_transform(X)\n",
    "\n",
    "\n",
    "# Create a PCA object\n",
    "pca = PCA(n_components=0.95)\n",
    "pca.fit(X_scale)\n",
    "\n",
    "# Transform the scaled features\n",
    "X_pca = pca.transform(X_scale)\n"
   ]
  },
  {
   "cell_type": "markdown",
   "metadata": {},
   "source": [
    "## Train the model"
   ]
  },
  {
   "cell_type": "code",
   "execution_count": 29,
   "metadata": {},
   "outputs": [],
   "source": [
    "from sklearn.linear_model import LogisticRegression\n",
    "from sklearn.neighbors import KNeighborsClassifier\n",
    "from sklearn.tree import DecisionTreeClassifier\n",
    "from sklearn.svm import SVC\n",
    "from sklearn.ensemble import RandomForestClassifier\n",
    "from sklearn.naive_bayes import GaussianNB\n",
    "from sklearn.ensemble import GradientBoostingClassifier\n",
    "from lightgbm import LGBMClassifier\n",
    "from xgboost import XGBClassifier\n",
    "from sklearn.ensemble import ExtraTreesClassifier\n",
    "from sklearn.metrics import accuracy_score\n",
    "from sklearn.model_selection import train_test_split"
   ]
  },
  {
   "cell_type": "code",
   "execution_count": 30,
   "metadata": {},
   "outputs": [],
   "source": [
    "# Split the data into train and test\n",
    "y = train_data['Cover_Type']\n",
    "X_train, X_test, y_train, y_test = train_test_split(X_pca, y, test_size=0.2, random_state=42)"
   ]
  },
  {
   "cell_type": "code",
   "execution_count": 31,
   "metadata": {},
   "outputs": [],
   "source": [
    "def train_evaluation_model(X_train, y_train, X_test, y_test, n_fold, model):\n",
    "    # Fit the model\n",
    "    model.fit(X_train, y_train)\n",
    "    \n",
    "    # test the model with the trainning data\n",
    "    y_train_pred = model.predict(X_train)\n",
    "    train_accuracy = accuracy_score(y_train, y_train_pred)\n",
    "    print('Training data accuracy:', train_accuracy)\n",
    "    \n",
    "    # test the model with the test data\n",
    "    y_test_pred = model.predict(X_test)\n",
    "    test_accuracy = accuracy_score(y_test, y_test_pred)\n",
    "    print('Testing data accuracy:', test_accuracy)\n",
    "    \n",
    "    # evaluate the model using cross validation\n",
    "    X_cross = np.concatenate((X_train, X_test), axis=0)\n",
    "    y_cross = np.concatenate((y_train, y_test), axis=0)\n",
    "    cross_val = cross_val_score(model, X_cross, y_cross, cv=n_fold)\n",
    "    print('Cross Validation:', cross_val)\t\n",
    "    print('Cross Validation Mean:', cross_val.mean())"
   ]
  },
  {
   "cell_type": "code",
   "execution_count": 33,
   "metadata": {},
   "outputs": [],
   "source": [
    "def train_test_all_model(X_train, y_train, X_test, y_test, n_fold):\n",
    "    # Define models\n",
    "    models = [\n",
    "        (\"LogisticRegression\", LogisticRegression(max_iter=1000, multi_class='multinomial')),\n",
    "        (\"KNeighborsClassifier\", KNeighborsClassifier()),\n",
    "        (\"GaussianNB\", GaussianNB()),\n",
    "        (\"SVC\", SVC()),\n",
    "        (\"DecisionTreeClassifier\", DecisionTreeClassifier()),\n",
    "        (\"RandomForestClassifier\", RandomForestClassifier()),\n",
    "        (\"ExtraTreesClassifier\", ExtraTreesClassifier()),\n",
    "        # (\"GradientBoostingClassifier\", GradientBoostingClassifier()),\n",
    "        (\"LGBMClassifier\", LGBMClassifier(objective='multiclass')),\n",
    "        (\"XGBClassifier\", XGBClassifier(objective='multi:softmax', num_class=7))\n",
    "    ]\n",
    "\n",
    "    # Store results\n",
    "    results = []\n",
    "\n",
    "    for name, model in models:\n",
    "        print(f\"Training {name}...\")\n",
    "\n",
    "        # Adjust labels for XGBClassifier\n",
    "        if isinstance(model, XGBClassifier):\n",
    "            y_train_adjusted = y_train - 1  # Convert to 0-based indexing\n",
    "            y_test_adjusted = y_test - 1\n",
    "            # Train and evaluate\n",
    "            model.fit(X_train, y_train_adjusted)\n",
    "            y_pred = model.predict(X_test) + 1  # Restore original labels\n",
    "            y_train_pred = model.predict(X_train) + 1\n",
    "        else:\n",
    "            # Train and evaluate for other models\n",
    "            model.fit(X_train, y_train)\n",
    "            y_pred = model.predict(X_test)\n",
    "            y_train_pred = model.predict(X_train)\n",
    "\n",
    "        # Calculate accuracies\n",
    "        train_accuracy = accuracy_score(y_train, y_train_pred)\n",
    "        test_accuracy = accuracy_score(y_test, y_pred)\n",
    "\n",
    "        # Cross-validation\n",
    "        if isinstance(model, XGBClassifier):\n",
    "            cv_scores = cross_val_score(model, X_train, y_train_adjusted, cv=n_fold, scoring='accuracy')\n",
    "        else:\n",
    "            cv_scores = cross_val_score(model, X_train, y_train, cv=n_fold, scoring='accuracy')\n",
    "\n",
    "        print(f\"{name} - Training Accuracy: {train_accuracy}\")\n",
    "        print(f\"{name} - Test Accuracy: {test_accuracy}\")\n",
    "        print(f\"{name} - Cross Validation Scores: {cv_scores}\")\n",
    "        print(f\"{name} - Cross Validation Mean Accuracy: {cv_scores.mean()}\")\n",
    "\n",
    "        # Append results\n",
    "        results.append({\n",
    "            \"model\": name,\n",
    "            \"train_accuracy\": train_accuracy,\n",
    "            \"test_accuracy\": test_accuracy,\n",
    "            \"cv_scores\": list(cv_scores),\n",
    "            \"cv_mean_accuracy\": cv_scores.mean()\n",
    "        })\n",
    "\n",
    "        print('------------------------------------')\n",
    "\n",
    "    return results\n"
   ]
  },
  {
   "cell_type": "markdown",
   "metadata": {},
   "source": [
    "### Models Used in the Comparison\n",
    "Here is a list of models that we use to compare for our project:\n",
    "\n",
    "1. Logistic Regression\n",
    "\n",
    "2. K-Nearest Neighbors (KNN)\n",
    "\n",
    "3. Gaussian Naive Bayes\n",
    "\n",
    "4. Support Vector Classifier (SVC)\n",
    "\n",
    "5. Decision Tree Classifier\n",
    "\n",
    "6. Random Forest Classifier\n",
    "\n",
    "7. Extra Trees Classifier\n",
    "\n",
    "8. Gradient Boosting Classifier\n",
    "\n",
    "9. LightGBM (LGBMClassifier)\n",
    "\n",
    "11. XGBoost Classifier\n",
    "   "
   ]
  },
  {
   "cell_type": "code",
   "execution_count": 34,
   "metadata": {},
   "outputs": [
    {
     "name": "stdout",
     "output_type": "stream",
     "text": [
      "Training LogisticRegression...\n"
     ]
    },
    {
     "name": "stderr",
     "output_type": "stream",
     "text": [
      "c:\\Users\\ASUS\\anaconda3\\envs\\inf554\\Lib\\site-packages\\sklearn\\linear_model\\_logistic.py:1247: FutureWarning: 'multi_class' was deprecated in version 1.5 and will be removed in 1.7. From then on, it will always use 'multinomial'. Leave it to its default value to avoid this warning.\n",
      "  warnings.warn(\n",
      "c:\\Users\\ASUS\\anaconda3\\envs\\inf554\\Lib\\site-packages\\sklearn\\linear_model\\_logistic.py:1247: FutureWarning: 'multi_class' was deprecated in version 1.5 and will be removed in 1.7. From then on, it will always use 'multinomial'. Leave it to its default value to avoid this warning.\n",
      "  warnings.warn(\n",
      "c:\\Users\\ASUS\\anaconda3\\envs\\inf554\\Lib\\site-packages\\sklearn\\linear_model\\_logistic.py:1247: FutureWarning: 'multi_class' was deprecated in version 1.5 and will be removed in 1.7. From then on, it will always use 'multinomial'. Leave it to its default value to avoid this warning.\n",
      "  warnings.warn(\n",
      "c:\\Users\\ASUS\\anaconda3\\envs\\inf554\\Lib\\site-packages\\sklearn\\linear_model\\_logistic.py:1247: FutureWarning: 'multi_class' was deprecated in version 1.5 and will be removed in 1.7. From then on, it will always use 'multinomial'. Leave it to its default value to avoid this warning.\n",
      "  warnings.warn(\n",
      "c:\\Users\\ASUS\\anaconda3\\envs\\inf554\\Lib\\site-packages\\sklearn\\linear_model\\_logistic.py:1247: FutureWarning: 'multi_class' was deprecated in version 1.5 and will be removed in 1.7. From then on, it will always use 'multinomial'. Leave it to its default value to avoid this warning.\n",
      "  warnings.warn(\n",
      "c:\\Users\\ASUS\\anaconda3\\envs\\inf554\\Lib\\site-packages\\sklearn\\linear_model\\_logistic.py:1247: FutureWarning: 'multi_class' was deprecated in version 1.5 and will be removed in 1.7. From then on, it will always use 'multinomial'. Leave it to its default value to avoid this warning.\n",
      "  warnings.warn(\n"
     ]
    },
    {
     "name": "stdout",
     "output_type": "stream",
     "text": [
      "LogisticRegression - Training Accuracy: 0.7065145502645502\n",
      "LogisticRegression - Test Accuracy: 0.716931216931217\n",
      "LogisticRegression - Cross Validation Scores: [0.69628099 0.70649029 0.69615544 0.69780901 0.69698222]\n",
      "LogisticRegression - Cross Validation Mean Accuracy: 0.6987435898311917\n",
      "------------------------------------\n",
      "Training KNeighborsClassifier...\n",
      "KNeighborsClassifier - Training Accuracy: 0.8683035714285714\n",
      "KNeighborsClassifier - Test Accuracy: 0.7943121693121693\n",
      "KNeighborsClassifier - Cross Validation Scores: [0.79338843 0.79123605 0.7738735  0.7804878  0.7875155 ]\n",
      "KNeighborsClassifier - Cross Validation Mean Accuracy: 0.7853002572608722\n",
      "------------------------------------\n",
      "Training GaussianNB...\n",
      "GaussianNB - Training Accuracy: 0.40327380952380953\n",
      "GaussianNB - Test Accuracy: 0.392526455026455\n",
      "GaussianNB - Cross Validation Scores: [0.39421488 0.39561802 0.424969   0.40553948 0.39892518]\n",
      "GaussianNB - Cross Validation Mean Accuracy: 0.4038533100557228\n",
      "------------------------------------\n",
      "Training SVC...\n",
      "SVC - Training Accuracy: 0.8044808201058201\n",
      "SVC - Test Accuracy: 0.7867063492063492\n",
      "SVC - Cross Validation Scores: [0.77520661 0.77304671 0.76188508 0.77263332 0.77304671]\n",
      "SVC - Cross Validation Mean Accuracy: 0.7711636869275262\n",
      "------------------------------------\n",
      "Training DecisionTreeClassifier...\n",
      "DecisionTreeClassifier - Training Accuracy: 1.0\n",
      "DecisionTreeClassifier - Test Accuracy: 0.7228835978835979\n",
      "DecisionTreeClassifier - Cross Validation Scores: [0.74173554 0.71517156 0.70731707 0.73460107 0.71723853]\n",
      "DecisionTreeClassifier - Cross Validation Mean Accuracy: 0.723212754399571\n",
      "------------------------------------\n",
      "Training RandomForestClassifier...\n",
      "RandomForestClassifier - Training Accuracy: 1.0\n",
      "RandomForestClassifier - Test Accuracy: 0.8310185185185185\n",
      "RandomForestClassifier - Cross Validation Scores: [0.8268595  0.81355932 0.8011575  0.81397272 0.81769326]\n",
      "RandomForestClassifier - Cross Validation Mean Accuracy: 0.8146484613886621\n",
      "------------------------------------\n",
      "Training ExtraTreesClassifier...\n",
      "ExtraTreesClassifier - Training Accuracy: 1.0\n",
      "ExtraTreesClassifier - Test Accuracy: 0.8363095238095238\n",
      "ExtraTreesClassifier - Cross Validation Scores: [0.83305785 0.8218272  0.80859859 0.82141381 0.82678793]\n",
      "ExtraTreesClassifier - Cross Validation Mean Accuracy: 0.8223370766555401\n",
      "------------------------------------\n",
      "Training LGBMClassifier...\n",
      "[LightGBM] [Info] Auto-choosing row-wise multi-threading, the overhead of testing was 0.001048 seconds.\n",
      "You can set `force_row_wise=true` to remove the overhead.\n",
      "And if memory is not enough, you can set `force_col_wise=true`.\n",
      "[LightGBM] [Info] Total Bins 10455\n",
      "[LightGBM] [Info] Number of data points in the train set: 12096, number of used features: 41\n",
      "[LightGBM] [Info] Start training from score -1.943021\n",
      "[LightGBM] [Info] Start training from score -1.964602\n",
      "[LightGBM] [Info] Start training from score -1.927561\n",
      "[LightGBM] [Info] Start training from score -1.948228\n",
      "[LightGBM] [Info] Start training from score -1.957552\n",
      "[LightGBM] [Info] Start training from score -1.936120\n",
      "[LightGBM] [Info] Start training from score -1.944753\n",
      "[LightGBM] [Info] Auto-choosing col-wise multi-threading, the overhead of testing was 0.001026 seconds.\n",
      "You can set `force_col_wise=true` to remove the overhead.\n",
      "[LightGBM] [Info] Total Bins 10455\n",
      "[LightGBM] [Info] Number of data points in the train set: 9676, number of used features: 41\n",
      "[LightGBM] [Info] Start training from score -1.943227\n",
      "[LightGBM] [Info] Start training from score -1.965109\n",
      "[LightGBM] [Info] Start training from score -1.927478\n",
      "[LightGBM] [Info] Start training from score -1.948290\n",
      "[LightGBM] [Info] Start training from score -1.957030\n",
      "[LightGBM] [Info] Start training from score -1.936038\n",
      "[LightGBM] [Info] Start training from score -1.944671\n",
      "[LightGBM] [Info] Auto-choosing col-wise multi-threading, the overhead of testing was 0.001121 seconds.\n",
      "You can set `force_col_wise=true` to remove the overhead.\n",
      "[LightGBM] [Info] Total Bins 10455\n",
      "[LightGBM] [Info] Number of data points in the train set: 9677, number of used features: 41\n",
      "[LightGBM] [Info] Start training from score -1.943330\n",
      "[LightGBM] [Info] Start training from score -1.964476\n",
      "[LightGBM] [Info] Start training from score -1.927582\n",
      "[LightGBM] [Info] Start training from score -1.948393\n",
      "[LightGBM] [Info] Start training from score -1.957133\n",
      "[LightGBM] [Info] Start training from score -1.936141\n",
      "[LightGBM] [Info] Start training from score -1.944774\n",
      "[LightGBM] [Info] Auto-choosing col-wise multi-threading, the overhead of testing was 0.001122 seconds.\n",
      "You can set `force_col_wise=true` to remove the overhead.\n",
      "[LightGBM] [Info] Total Bins 10455\n",
      "[LightGBM] [Info] Number of data points in the train set: 9677, number of used features: 41\n",
      "[LightGBM] [Info] Start training from score -1.942609\n",
      "[LightGBM] [Info] Start training from score -1.964476\n",
      "[LightGBM] [Info] Start training from score -1.927582\n",
      "[LightGBM] [Info] Start training from score -1.948393\n",
      "[LightGBM] [Info] Start training from score -1.957865\n",
      "[LightGBM] [Info] Start training from score -1.936141\n",
      "[LightGBM] [Info] Start training from score -1.944774\n",
      "[LightGBM] [Info] Auto-choosing col-wise multi-threading, the overhead of testing was 0.001219 seconds.\n",
      "You can set `force_col_wise=true` to remove the overhead.\n",
      "[LightGBM] [Info] Total Bins 10455\n",
      "[LightGBM] [Info] Number of data points in the train set: 9677, number of used features: 41\n",
      "[LightGBM] [Info] Start training from score -1.942609\n",
      "[LightGBM] [Info] Start training from score -1.964476\n",
      "[LightGBM] [Info] Start training from score -1.927582\n",
      "[LightGBM] [Info] Start training from score -1.948393\n",
      "[LightGBM] [Info] Start training from score -1.957865\n",
      "[LightGBM] [Info] Start training from score -1.936141\n",
      "[LightGBM] [Info] Start training from score -1.944774\n",
      "[LightGBM] [Info] Auto-choosing col-wise multi-threading, the overhead of testing was 0.000760 seconds.\n",
      "You can set `force_col_wise=true` to remove the overhead.\n",
      "[LightGBM] [Info] Total Bins 10455\n",
      "[LightGBM] [Info] Number of data points in the train set: 9677, number of used features: 41\n",
      "[LightGBM] [Info] Start training from score -1.943330\n",
      "[LightGBM] [Info] Start training from score -1.964476\n",
      "[LightGBM] [Info] Start training from score -1.927582\n",
      "[LightGBM] [Info] Start training from score -1.947668\n",
      "[LightGBM] [Info] Start training from score -1.957865\n",
      "[LightGBM] [Info] Start training from score -1.936141\n",
      "[LightGBM] [Info] Start training from score -1.944774\n",
      "LGBMClassifier - Training Accuracy: 0.9936342592592593\n",
      "LGBMClassifier - Test Accuracy: 0.8310185185185185\n",
      "LGBMClassifier - Cross Validation Scores: [0.82809917 0.81976023 0.79909053 0.82348078 0.82761472]\n",
      "LGBMClassifier - Cross Validation Mean Accuracy: 0.8196090864676681\n",
      "------------------------------------\n",
      "Training XGBClassifier...\n",
      "XGBClassifier - Training Accuracy: 0.9989252645502645\n",
      "XGBClassifier - Test Accuracy: 0.8293650793650794\n",
      "XGBClassifier - Cross Validation Scores: [0.82727273 0.82926829 0.79288962 0.8218272  0.82141381]\n",
      "XGBClassifier - Cross Validation Mean Accuracy: 0.8185343304896839\n",
      "------------------------------------\n"
     ]
    }
   ],
   "source": [
    "results_scaled_data_pca = train_test_all_model(X_train, y_train, X_test, y_test, 5)"
   ]
  },
  {
   "cell_type": "markdown",
   "metadata": {},
   "source": [
    "Now let compare the result for our scaling dataset with dimensional reduction using PAC."
   ]
  },
  {
   "cell_type": "code",
   "execution_count": 35,
   "metadata": {},
   "outputs": [
    {
     "data": {
      "image/png": "[encoded data removed]",
      "text/plain": [
       "<Figure size 1000x600 with 1 Axes>"
      ]
     },
     "metadata": {},
     "output_type": "display_data"
    },
    {
     "data": {
      "text/html": [
       "<div>\n",
       "<style scoped>\n",
       "    .dataframe tbody tr th:only-of-type {\n",
       "        vertical-align: middle;\n",
       "    }\n",
       "\n",
       "    .dataframe tbody tr th {\n",
       "        vertical-align: top;\n",
       "    }\n",
       "\n",
       "    .dataframe thead th {\n",
       "        text-align: right;\n",
       "    }\n",
       "</style>\n",
       "<table border=\"1\" class=\"dataframe\">\n",
       "  <thead>\n",
       "    <tr style=\"text-align: right;\">\n",
       "      <th></th>\n",
       "      <th>model</th>\n",
       "      <th>train_accuracy</th>\n",
       "      <th>test_accuracy</th>\n",
       "      <th>cv_scores</th>\n",
       "      <th>cv_mean_accuracy</th>\n",
       "    </tr>\n",
       "  </thead>\n",
       "  <tbody>\n",
       "    <tr>\n",
       "      <th>0</th>\n",
       "      <td>LogisticRegression</td>\n",
       "      <td>0.706515</td>\n",
       "      <td>0.716931</td>\n",
       "      <td>[0.6962809917355371, 0.7064902852418354, 0.696...</td>\n",
       "      <td>0.698744</td>\n",
       "    </tr>\n",
       "    <tr>\n",
       "      <th>1</th>\n",
       "      <td>KNeighborsClassifier</td>\n",
       "      <td>0.868304</td>\n",
       "      <td>0.794312</td>\n",
       "      <td>[0.7933884297520661, 0.7912360479536998, 0.773...</td>\n",
       "      <td>0.785300</td>\n",
       "    </tr>\n",
       "    <tr>\n",
       "      <th>2</th>\n",
       "      <td>GaussianNB</td>\n",
       "      <td>0.403274</td>\n",
       "      <td>0.392526</td>\n",
       "      <td>[0.3942148760330578, 0.3956180239768499, 0.424...</td>\n",
       "      <td>0.403853</td>\n",
       "    </tr>\n",
       "    <tr>\n",
       "      <th>3</th>\n",
       "      <td>SVC</td>\n",
       "      <td>0.804481</td>\n",
       "      <td>0.786706</td>\n",
       "      <td>[0.775206611570248, 0.7730467135179826, 0.7618...</td>\n",
       "      <td>0.771164</td>\n",
       "    </tr>\n",
       "    <tr>\n",
       "      <th>4</th>\n",
       "      <td>DecisionTreeClassifier</td>\n",
       "      <td>1.000000</td>\n",
       "      <td>0.722884</td>\n",
       "      <td>[0.7417355371900827, 0.7151715584952459, 0.707...</td>\n",
       "      <td>0.723213</td>\n",
       "    </tr>\n",
       "    <tr>\n",
       "      <th>5</th>\n",
       "      <td>RandomForestClassifier</td>\n",
       "      <td>1.000000</td>\n",
       "      <td>0.831019</td>\n",
       "      <td>[0.8268595041322314, 0.8135593220338984, 0.801...</td>\n",
       "      <td>0.814648</td>\n",
       "    </tr>\n",
       "    <tr>\n",
       "      <th>6</th>\n",
       "      <td>ExtraTreesClassifier</td>\n",
       "      <td>1.000000</td>\n",
       "      <td>0.836310</td>\n",
       "      <td>[0.8330578512396695, 0.8218272013228607, 0.808...</td>\n",
       "      <td>0.822337</td>\n",
       "    </tr>\n",
       "    <tr>\n",
       "      <th>7</th>\n",
       "      <td>LGBMClassifier</td>\n",
       "      <td>0.993634</td>\n",
       "      <td>0.831019</td>\n",
       "      <td>[0.828099173553719, 0.81976023150062, 0.799090...</td>\n",
       "      <td>0.819609</td>\n",
       "    </tr>\n",
       "    <tr>\n",
       "      <th>8</th>\n",
       "      <td>XGBClassifier</td>\n",
       "      <td>0.998925</td>\n",
       "      <td>0.829365</td>\n",
       "      <td>[0.8272727272727273, 0.8292682926829268, 0.792...</td>\n",
       "      <td>0.818534</td>\n",
       "    </tr>\n",
       "  </tbody>\n",
       "</table>\n",
       "</div>"
      ],
      "text/plain": [
       "                    model  train_accuracy  test_accuracy  \\\n",
       "0      LogisticRegression        0.706515       0.716931   \n",
       "1    KNeighborsClassifier        0.868304       0.794312   \n",
       "2              GaussianNB        0.403274       0.392526   \n",
       "3                     SVC        0.804481       0.786706   \n",
       "4  DecisionTreeClassifier        1.000000       0.722884   \n",
       "5  RandomForestClassifier        1.000000       0.831019   \n",
       "6    ExtraTreesClassifier        1.000000       0.836310   \n",
       "7          LGBMClassifier        0.993634       0.831019   \n",
       "8           XGBClassifier        0.998925       0.829365   \n",
       "\n",
       "                                           cv_scores  cv_mean_accuracy  \n",
       "0  [0.6962809917355371, 0.7064902852418354, 0.696...          0.698744  \n",
       "1  [0.7933884297520661, 0.7912360479536998, 0.773...          0.785300  \n",
       "2  [0.3942148760330578, 0.3956180239768499, 0.424...          0.403853  \n",
       "3  [0.775206611570248, 0.7730467135179826, 0.7618...          0.771164  \n",
       "4  [0.7417355371900827, 0.7151715584952459, 0.707...          0.723213  \n",
       "5  [0.8268595041322314, 0.8135593220338984, 0.801...          0.814648  \n",
       "6  [0.8330578512396695, 0.8218272013228607, 0.808...          0.822337  \n",
       "7  [0.828099173553719, 0.81976023150062, 0.799090...          0.819609  \n",
       "8  [0.8272727272727273, 0.8292682926829268, 0.792...          0.818534  "
      ]
     },
     "execution_count": 35,
     "metadata": {},
     "output_type": "execute_result"
    }
   ],
   "source": [
    "# Plot results\n",
    "def plot_results(results):\n",
    "    # Create a DataFrame\n",
    "    df = pd.DataFrame(results)\n",
    "\n",
    "    # Plot\n",
    "    plt.figure(figsize=(10, 6))\n",
    "    sns.barplot(data=df, x='cv_mean_accuracy', y='model', color='skyblue')\n",
    "    plt.xlabel('Accuracy')\n",
    "    plt.title('Cross Validation Mean Accuracy of Models')\n",
    "    plt.show()\n",
    "\n",
    "    return df\n",
    "plot_results(results_scaled_data_pca)"
   ]
  },
  {
   "cell_type": "markdown",
   "metadata": {},
   "source": [
    "Here it is hard to find the choose the model because one of them gave almost the same accuracy, especailly the tree base model."
   ]
  },
  {
   "cell_type": "markdown",
   "metadata": {},
   "source": [
    "So now I want to check what happen if we don't scale our data and don't use PCA"
   ]
  },
  {
   "cell_type": "code",
   "execution_count": 36,
   "metadata": {},
   "outputs": [],
   "source": [
    "X_train_new, X_test_new, y_train_new, y_test_new = train_test_split(X, y, test_size=0.2, random_state=42)"
   ]
  },
  {
   "cell_type": "code",
   "execution_count": 37,
   "metadata": {},
   "outputs": [
    {
     "name": "stdout",
     "output_type": "stream",
     "text": [
      "Training LogisticRegression...\n"
     ]
    },
    {
     "name": "stderr",
     "output_type": "stream",
     "text": [
      "c:\\Users\\ASUS\\anaconda3\\envs\\inf554\\Lib\\site-packages\\sklearn\\linear_model\\_logistic.py:1247: FutureWarning: 'multi_class' was deprecated in version 1.5 and will be removed in 1.7. From then on, it will always use 'multinomial'. Leave it to its default value to avoid this warning.\n",
      "  warnings.warn(\n",
      "c:\\Users\\ASUS\\anaconda3\\envs\\inf554\\Lib\\site-packages\\sklearn\\linear_model\\_logistic.py:469: ConvergenceWarning: lbfgs failed to converge (status=1):\n",
      "STOP: TOTAL NO. of ITERATIONS REACHED LIMIT.\n",
      "\n",
      "Increase the number of iterations (max_iter) or scale the data as shown in:\n",
      "    https://scikit-learn.org/stable/modules/preprocessing.html\n",
      "Please also refer to the documentation for alternative solver options:\n",
      "    https://scikit-learn.org/stable/modules/linear_model.html#logistic-regression\n",
      "  n_iter_i = _check_optimize_result(\n",
      "c:\\Users\\ASUS\\anaconda3\\envs\\inf554\\Lib\\site-packages\\sklearn\\linear_model\\_logistic.py:1247: FutureWarning: 'multi_class' was deprecated in version 1.5 and will be removed in 1.7. From then on, it will always use 'multinomial'. Leave it to its default value to avoid this warning.\n",
      "  warnings.warn(\n",
      "c:\\Users\\ASUS\\anaconda3\\envs\\inf554\\Lib\\site-packages\\sklearn\\linear_model\\_logistic.py:469: ConvergenceWarning: lbfgs failed to converge (status=1):\n",
      "STOP: TOTAL NO. of ITERATIONS REACHED LIMIT.\n",
      "\n",
      "Increase the number of iterations (max_iter) or scale the data as shown in:\n",
      "    https://scikit-learn.org/stable/modules/preprocessing.html\n",
      "Please also refer to the documentation for alternative solver options:\n",
      "    https://scikit-learn.org/stable/modules/linear_model.html#logistic-regression\n",
      "  n_iter_i = _check_optimize_result(\n",
      "c:\\Users\\ASUS\\anaconda3\\envs\\inf554\\Lib\\site-packages\\sklearn\\linear_model\\_logistic.py:1247: FutureWarning: 'multi_class' was deprecated in version 1.5 and will be removed in 1.7. From then on, it will always use 'multinomial'. Leave it to its default value to avoid this warning.\n",
      "  warnings.warn(\n",
      "c:\\Users\\ASUS\\anaconda3\\envs\\inf554\\Lib\\site-packages\\sklearn\\linear_model\\_logistic.py:469: ConvergenceWarning: lbfgs failed to converge (status=1):\n",
      "STOP: TOTAL NO. of ITERATIONS REACHED LIMIT.\n",
      "\n",
      "Increase the number of iterations (max_iter) or scale the data as shown in:\n",
      "    https://scikit-learn.org/stable/modules/preprocessing.html\n",
      "Please also refer to the documentation for alternative solver options:\n",
      "    https://scikit-learn.org/stable/modules/linear_model.html#logistic-regression\n",
      "  n_iter_i = _check_optimize_result(\n",
      "c:\\Users\\ASUS\\anaconda3\\envs\\inf554\\Lib\\site-packages\\sklearn\\linear_model\\_logistic.py:1247: FutureWarning: 'multi_class' was deprecated in version 1.5 and will be removed in 1.7. From then on, it will always use 'multinomial'. Leave it to its default value to avoid this warning.\n",
      "  warnings.warn(\n",
      "c:\\Users\\ASUS\\anaconda3\\envs\\inf554\\Lib\\site-packages\\sklearn\\linear_model\\_logistic.py:469: ConvergenceWarning: lbfgs failed to converge (status=1):\n",
      "STOP: TOTAL NO. of ITERATIONS REACHED LIMIT.\n",
      "\n",
      "Increase the number of iterations (max_iter) or scale the data as shown in:\n",
      "    https://scikit-learn.org/stable/modules/preprocessing.html\n",
      "Please also refer to the documentation for alternative solver options:\n",
      "    https://scikit-learn.org/stable/modules/linear_model.html#logistic-regression\n",
      "  n_iter_i = _check_optimize_result(\n",
      "c:\\Users\\ASUS\\anaconda3\\envs\\inf554\\Lib\\site-packages\\sklearn\\linear_model\\_logistic.py:1247: FutureWarning: 'multi_class' was deprecated in version 1.5 and will be removed in 1.7. From then on, it will always use 'multinomial'. Leave it to its default value to avoid this warning.\n",
      "  warnings.warn(\n",
      "c:\\Users\\ASUS\\anaconda3\\envs\\inf554\\Lib\\site-packages\\sklearn\\linear_model\\_logistic.py:469: ConvergenceWarning: lbfgs failed to converge (status=1):\n",
      "STOP: TOTAL NO. of ITERATIONS REACHED LIMIT.\n",
      "\n",
      "Increase the number of iterations (max_iter) or scale the data as shown in:\n",
      "    https://scikit-learn.org/stable/modules/preprocessing.html\n",
      "Please also refer to the documentation for alternative solver options:\n",
      "    https://scikit-learn.org/stable/modules/linear_model.html#logistic-regression\n",
      "  n_iter_i = _check_optimize_result(\n",
      "c:\\Users\\ASUS\\anaconda3\\envs\\inf554\\Lib\\site-packages\\sklearn\\linear_model\\_logistic.py:1247: FutureWarning: 'multi_class' was deprecated in version 1.5 and will be removed in 1.7. From then on, it will always use 'multinomial'. Leave it to its default value to avoid this warning.\n",
      "  warnings.warn(\n",
      "c:\\Users\\ASUS\\anaconda3\\envs\\inf554\\Lib\\site-packages\\sklearn\\linear_model\\_logistic.py:469: ConvergenceWarning: lbfgs failed to converge (status=1):\n",
      "STOP: TOTAL NO. of ITERATIONS REACHED LIMIT.\n",
      "\n",
      "Increase the number of iterations (max_iter) or scale the data as shown in:\n",
      "    https://scikit-learn.org/stable/modules/preprocessing.html\n",
      "Please also refer to the documentation for alternative solver options:\n",
      "    https://scikit-learn.org/stable/modules/linear_model.html#logistic-regression\n",
      "  n_iter_i = _check_optimize_result(\n"
     ]
    },
    {
     "name": "stdout",
     "output_type": "stream",
     "text": [
      "LogisticRegression - Training Accuracy: 0.6355820105820106\n",
      "LogisticRegression - Test Accuracy: 0.6378968253968254\n",
      "LogisticRegression - Cross Validation Scores: [0.63760331 0.62877222 0.62918561 0.63869368 0.62009095]\n",
      "LogisticRegression - Cross Validation Mean Accuracy: 0.6308691522690546\n",
      "------------------------------------\n",
      "Training KNeighborsClassifier...\n",
      "KNeighborsClassifier - Training Accuracy: 0.8527612433862434\n",
      "KNeighborsClassifier - Test Accuracy: 0.7533068783068783\n",
      "KNeighborsClassifier - Cross Validation Scores: [0.73636364 0.74534932 0.7399752  0.74576271 0.73377429]\n",
      "KNeighborsClassifier - Cross Validation Mean Accuracy: 0.7402450298771093\n",
      "------------------------------------\n",
      "Training GaussianNB...\n",
      "GaussianNB - Training Accuracy: 0.5243882275132276\n",
      "GaussianNB - Test Accuracy: 0.5125661375661376\n",
      "GaussianNB - Cross Validation Scores: [0.52809917 0.51632906 0.52004961 0.51922282 0.53286482]\n",
      "GaussianNB - Cross Validation Mean Accuracy: 0.5233130963891234\n",
      "------------------------------------\n",
      "Training SVC...\n",
      "SVC - Training Accuracy: 0.560681216931217\n",
      "SVC - Test Accuracy: 0.558531746031746\n",
      "SVC - Cross Validation Scores: [0.54669421 0.534105   0.54030591 0.54526664 0.53823894]\n",
      "SVC - Cross Validation Mean Accuracy: 0.5409221418590429\n",
      "------------------------------------\n",
      "Training DecisionTreeClassifier...\n",
      "DecisionTreeClassifier - Training Accuracy: 1.0\n",
      "DecisionTreeClassifier - Test Accuracy: 0.7857142857142857\n",
      "DecisionTreeClassifier - Cross Validation Scores: [0.78801653 0.75981811 0.77180653 0.78131459 0.7738735 ]\n",
      "DecisionTreeClassifier - Cross Validation Mean Accuracy: 0.7749658522919449\n",
      "------------------------------------\n",
      "Training RandomForestClassifier...\n",
      "RandomForestClassifier - Training Accuracy: 1.0\n",
      "RandomForestClassifier - Test Accuracy: 0.8683862433862434\n",
      "RandomForestClassifier - Cross Validation Scores: [0.85619835 0.85489872 0.85324514 0.85820587 0.85117817]\n",
      "RandomForestClassifier - Cross Validation Mean Accuracy: 0.8547452502400077\n",
      "------------------------------------\n",
      "Training ExtraTreesClassifier...\n",
      "ExtraTreesClassifier - Training Accuracy: 1.0\n",
      "ExtraTreesClassifier - Test Accuracy: 0.8912037037037037\n",
      "ExtraTreesClassifier - Cross Validation Scores: [0.88016529 0.8768086  0.87846217 0.88714345 0.87143448]\n",
      "ExtraTreesClassifier - Cross Validation Mean Accuracy: 0.878802797413042\n",
      "------------------------------------\n",
      "Training LGBMClassifier...\n",
      "[LightGBM] [Warning] Found whitespace in feature_names, replace with underlines\n",
      "[LightGBM] [Info] Auto-choosing col-wise multi-threading, the overhead of testing was 0.004241 seconds.\n",
      "You can set `force_col_wise=true` to remove the overhead.\n",
      "[LightGBM] [Info] Total Bins 35889\n",
      "[LightGBM] [Info] Number of data points in the train set: 12096, number of used features: 182\n",
      "[LightGBM] [Info] Start training from score -1.943021\n",
      "[LightGBM] [Info] Start training from score -1.964602\n",
      "[LightGBM] [Info] Start training from score -1.927561\n",
      "[LightGBM] [Info] Start training from score -1.948228\n",
      "[LightGBM] [Info] Start training from score -1.957552\n",
      "[LightGBM] [Info] Start training from score -1.936120\n",
      "[LightGBM] [Info] Start training from score -1.944753\n",
      "[LightGBM] [Warning] Found whitespace in feature_names, replace with underlines\n",
      "[LightGBM] [Info] Auto-choosing col-wise multi-threading, the overhead of testing was 0.003704 seconds.\n",
      "You can set `force_col_wise=true` to remove the overhead.\n",
      "[LightGBM] [Info] Total Bins 35809\n",
      "[LightGBM] [Info] Number of data points in the train set: 9676, number of used features: 181\n",
      "[LightGBM] [Info] Start training from score -1.943227\n",
      "[LightGBM] [Info] Start training from score -1.965109\n",
      "[LightGBM] [Info] Start training from score -1.927478\n",
      "[LightGBM] [Info] Start training from score -1.948290\n",
      "[LightGBM] [Info] Start training from score -1.957030\n",
      "[LightGBM] [Info] Start training from score -1.936038\n",
      "[LightGBM] [Info] Start training from score -1.944671\n",
      "[LightGBM] [Warning] Found whitespace in feature_names, replace with underlines\n",
      "[LightGBM] [Info] Auto-choosing col-wise multi-threading, the overhead of testing was 0.004735 seconds.\n",
      "You can set `force_col_wise=true` to remove the overhead.\n",
      "[LightGBM] [Info] Total Bins 35810\n",
      "[LightGBM] [Info] Number of data points in the train set: 9677, number of used features: 182\n",
      "[LightGBM] [Info] Start training from score -1.943330\n",
      "[LightGBM] [Info] Start training from score -1.964476\n",
      "[LightGBM] [Info] Start training from score -1.927582\n",
      "[LightGBM] [Info] Start training from score -1.948393\n",
      "[LightGBM] [Info] Start training from score -1.957133\n",
      "[LightGBM] [Info] Start training from score -1.936141\n",
      "[LightGBM] [Info] Start training from score -1.944774\n",
      "[LightGBM] [Warning] Found whitespace in feature_names, replace with underlines\n",
      "[LightGBM] [Info] Auto-choosing col-wise multi-threading, the overhead of testing was 0.003718 seconds.\n",
      "You can set `force_col_wise=true` to remove the overhead.\n",
      "[LightGBM] [Info] Total Bins 35786\n",
      "[LightGBM] [Info] Number of data points in the train set: 9677, number of used features: 180\n",
      "[LightGBM] [Info] Start training from score -1.942609\n",
      "[LightGBM] [Info] Start training from score -1.964476\n",
      "[LightGBM] [Info] Start training from score -1.927582\n",
      "[LightGBM] [Info] Start training from score -1.948393\n",
      "[LightGBM] [Info] Start training from score -1.957865\n",
      "[LightGBM] [Info] Start training from score -1.936141\n",
      "[LightGBM] [Info] Start training from score -1.944774\n",
      "[LightGBM] [Warning] Found whitespace in feature_names, replace with underlines\n",
      "[LightGBM] [Info] Auto-choosing col-wise multi-threading, the overhead of testing was 0.004094 seconds.\n",
      "You can set `force_col_wise=true` to remove the overhead.\n",
      "[LightGBM] [Info] Total Bins 35808\n",
      "[LightGBM] [Info] Number of data points in the train set: 9677, number of used features: 181\n",
      "[LightGBM] [Info] Start training from score -1.942609\n",
      "[LightGBM] [Info] Start training from score -1.964476\n",
      "[LightGBM] [Info] Start training from score -1.927582\n",
      "[LightGBM] [Info] Start training from score -1.948393\n",
      "[LightGBM] [Info] Start training from score -1.957865\n",
      "[LightGBM] [Info] Start training from score -1.936141\n",
      "[LightGBM] [Info] Start training from score -1.944774\n",
      "[LightGBM] [Warning] Found whitespace in feature_names, replace with underlines\n",
      "[LightGBM] [Info] Auto-choosing col-wise multi-threading, the overhead of testing was 0.005642 seconds.\n",
      "You can set `force_col_wise=true` to remove the overhead.\n",
      "[LightGBM] [Info] Total Bins 35827\n",
      "[LightGBM] [Info] Number of data points in the train set: 9677, number of used features: 182\n",
      "[LightGBM] [Info] Start training from score -1.943330\n",
      "[LightGBM] [Info] Start training from score -1.964476\n",
      "[LightGBM] [Info] Start training from score -1.927582\n",
      "[LightGBM] [Info] Start training from score -1.947668\n",
      "[LightGBM] [Info] Start training from score -1.957865\n",
      "[LightGBM] [Info] Start training from score -1.936141\n",
      "[LightGBM] [Info] Start training from score -1.944774\n",
      "LGBMClassifier - Training Accuracy: 0.9997519841269841\n",
      "LGBMClassifier - Test Accuracy: 0.8759920634920635\n",
      "LGBMClassifier - Cross Validation Scores: [0.86404959 0.85531211 0.86192642 0.86936751 0.85944605]\n",
      "LGBMClassifier - Cross Validation Mean Accuracy: 0.862020334883276\n",
      "------------------------------------\n",
      "Training XGBClassifier...\n",
      "XGBClassifier - Training Accuracy: 1.0\n",
      "XGBClassifier - Test Accuracy: 0.8799603174603174\n",
      "XGBClassifier - Cross Validation Scores: [0.85950413 0.86068623 0.86440678 0.85779248 0.85985945]\n",
      "XGBClassifier - Cross Validation Mean Accuracy: 0.8604498136310681\n",
      "------------------------------------\n"
     ]
    }
   ],
   "source": [
    "results_non_scaled_data = train_test_all_model(X_train_new, y_train_new, X_test_new, y_test_new, 5)"
   ]
  },
  {
   "cell_type": "markdown",
   "metadata": {},
   "source": [
    "Now let compare the result of both case of dataset"
   ]
  },
  {
   "cell_type": "code",
   "execution_count": 38,
   "metadata": {},
   "outputs": [
    {
     "data": {
      "image/png": "[encoded data removed]",
      "text/plain": [
       "<Figure size 1000x600 with 1 Axes>"
      ]
     },
     "metadata": {},
     "output_type": "display_data"
    }
   ],
   "source": [
    "# Plot results of both scaled and non-scaled data\n",
    "def compare_results(results1, results2):\n",
    "    # Create DataFrames\n",
    "    df1 = pd.DataFrame(results1)\n",
    "    df1['data'] = 'scaled'\n",
    "    df2 = pd.DataFrame(results2)\n",
    "    df2['data'] = 'non-scaled'\n",
    "    df = pd.concat([df1, df2])\n",
    "\n",
    "    # Plot\n",
    "    plt.figure(figsize=(10, 6))\n",
    "    sns.barplot(data=df, x='cv_mean_accuracy', y='model', hue='data')\n",
    "    plt.xlabel('Accuracy')\n",
    "    plt.title('Cross Validation Mean Accuracy of Models')\n",
    "    plt.show()\n",
    "\n",
    "compare_results(results_scaled_data_pca, results_non_scaled_data)"
   ]
  },
  {
   "cell_type": "markdown",
   "metadata": {},
   "source": [
    "### Result\n",
    "\n",
    "Based on the results, we observe that some models perform better with the non-scaled dataset than with the scaled dataset, even when combined with dimensionality reduction using PCA. However, we also see that the **ExtraTreesClassifier** consistently delivers the highest accuracy among all the models tested.\n",
    "\n",
    "The reasons are as follows:\n",
    "\n",
    "1. **Scaling-Sensitive Models:**\n",
    "   - **Logistic Regression, KNN, and SVM** are sensitive to data scaling because:\n",
    "     - **KNN** relies on distance metrics (e.g., Euclidean distance), where features with larger scales can dominate.\n",
    "     - **Logistic Regression** and **SVM** use optimization techniques that perform better when features are scaled uniformly. \n",
    "   - Scaling ensures that all features contribute equally during training, which improves the performance of these models.\n",
    "\n",
    "2. **Tree-Based Models:**\n",
    "   - The other models used (e.g., **Random Forest, Extra Trees, Gradient Boosting, LightGBM, XGBoost**) are based on decision tree algorithms. \n",
    "   - **Tree-based models** are inherently scale-invariant because splitting criteria depend only on the relative order of feature values. As a result, the feature magnitudes or ranges do not affect their performance.\n",
    "\n",
    "3. **Gaussian Naive Bayes:**\n",
    "   - **Gaussian Naive Bayes** computes probabilities assuming feature independence and uses a Gaussian distribution for calculations. Feature scaling has little or no impact on its performance, as it does not rely on feature magnitudes or distances.\n"
   ]
  },
  {
   "cell_type": "markdown",
   "metadata": {},
   "source": [
    "> **Model Choice**:\n",
    ">\n",
    "> We will choose ExtraTreeClassifier as our final model and we will improve it by doing explore more on data preprocessing and perform hyperparameter tunning."
   ]
  },
  {
   "cell_type": "code",
   "execution_count": null,
   "metadata": {},
   "outputs": [],
   "source": []
  }
 ],
 "metadata": {
  "kernelspec": {
   "display_name": "inf554",
   "language": "python",
   "name": "python3"
  },
  "language_info": {
   "codemirror_mode": {
    "name": "ipython",
    "version": 3
   },
   "file_extension": ".py",
   "mimetype": "text/x-python",
   "name": "python",
   "nbconvert_exporter": "python",
   "pygments_lexer": "ipython3",
   "version": "3.11.9"
  }
 },
 "nbformat": 4,
 "nbformat_minor": 2
}
